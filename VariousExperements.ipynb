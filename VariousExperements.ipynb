{
  "cells": [
    {
      "cell_type": "markdown",
      "metadata": {
        "id": "view-in-github",
        "colab_type": "text"
      },
      "source": [
        "<a href=\"https://colab.research.google.com/github/accelleratorcloud/PublicNotebooks/blob/main/VariousExperements.ipynb\" target=\"_parent\"><img src=\"https://colab.research.google.com/assets/colab-badge.svg\" alt=\"Open In Colab\"/></a>"
      ]
    },
    {
      "cell_type": "code",
      "execution_count": null,
      "id": "fb105a47-db34-4cb5-a82b-67a8149dcb61",
      "metadata": {
        "id": "fb105a47-db34-4cb5-a82b-67a8149dcb61"
      },
      "outputs": [],
      "source": [
        "import os\n",
        "import platform\n",
        "import sys"
      ]
    },
    {
      "cell_type": "code",
      "execution_count": null,
      "id": "633d6430-41a0-4ba2-b0ed-e599b2b8f9b0",
      "metadata": {
        "id": "633d6430-41a0-4ba2-b0ed-e599b2b8f9b0"
      },
      "outputs": [],
      "source": [
        "thing = open(\"listdoc.txt\",'r')"
      ]
    },
    {
      "cell_type": "code",
      "execution_count": null,
      "id": "abb65fd8-e4e0-4f82-acc3-946909d88f67",
      "metadata": {
        "id": "abb65fd8-e4e0-4f82-acc3-946909d88f67",
        "outputId": "d5783104-1896-473a-e659-206a1bc434eb"
      },
      "outputs": [
        {
          "data": {
            "text/plain": [
              "_io.TextIOWrapper"
            ]
          },
          "execution_count": 3,
          "metadata": {},
          "output_type": "execute_result"
        }
      ],
      "source": [
        "type(thing)"
      ]
    },
    {
      "cell_type": "code",
      "execution_count": null,
      "id": "b00b8e65-8674-4170-924f-5dd31f9628d0",
      "metadata": {
        "id": "b00b8e65-8674-4170-924f-5dd31f9628d0",
        "outputId": "ea32df52-41ad-445f-b919-7224ba92982c"
      },
      "outputs": [
        {
          "ename": "NameError",
          "evalue": "name '_io' is not defined",
          "output_type": "error",
          "traceback": [
            "\u001b[0;31m---------------------------------------------------------------------------\u001b[0m",
            "\u001b[0;31mNameError\u001b[0m                                 Traceback (most recent call last)",
            "\u001b[0;32m/tmp/ipykernel_529438/847340607.py\u001b[0m in \u001b[0;36m<module>\u001b[0;34m\u001b[0m\n\u001b[0;32m----> 1\u001b[0;31m \u001b[0mhelp\u001b[0m\u001b[0;34m(\u001b[0m\u001b[0m_io\u001b[0m\u001b[0;34m.\u001b[0m\u001b[0mTextIOWrapper\u001b[0m\u001b[0;34m)\u001b[0m\u001b[0;34m\u001b[0m\u001b[0;34m\u001b[0m\u001b[0m\n\u001b[0m",
            "\u001b[0;31mNameError\u001b[0m: name '_io' is not defined"
          ]
        }
      ],
      "source": [
        "help(_io.TextIOWrapper)"
      ]
    },
    {
      "cell_type": "code",
      "execution_count": null,
      "id": "67a6b638-5341-43b8-9774-61278c4d5297",
      "metadata": {
        "id": "67a6b638-5341-43b8-9774-61278c4d5297",
        "outputId": "833b55c8-ff90-4290-a754-a15dacf83037"
      },
      "outputs": [
        {
          "ename": "NameError",
          "evalue": "name '_io' is not defined",
          "output_type": "error",
          "traceback": [
            "\u001b[0;31m---------------------------------------------------------------------------\u001b[0m",
            "\u001b[0;31mNameError\u001b[0m                                 Traceback (most recent call last)",
            "\u001b[0;32m/tmp/ipykernel_529438/2445820491.py\u001b[0m in \u001b[0;36m<module>\u001b[0;34m\u001b[0m\n\u001b[0;32m----> 1\u001b[0;31m \u001b[0mdir\u001b[0m\u001b[0;34m(\u001b[0m\u001b[0m_io\u001b[0m\u001b[0;34m)\u001b[0m\u001b[0;34m\u001b[0m\u001b[0;34m\u001b[0m\u001b[0m\n\u001b[0m",
            "\u001b[0;31mNameError\u001b[0m: name '_io' is not defined"
          ]
        }
      ],
      "source": [
        "dir(_io)"
      ]
    },
    {
      "cell_type": "code",
      "execution_count": null,
      "id": "5544f181-cd85-4dd6-b2e9-281c57875054",
      "metadata": {
        "id": "5544f181-cd85-4dd6-b2e9-281c57875054"
      },
      "outputs": [],
      "source": [
        "thing2 = open(\"listdoc.txt\",'rb')"
      ]
    },
    {
      "cell_type": "code",
      "execution_count": null,
      "id": "e1618c0d-f6c6-43b7-b1b0-425f52a507fe",
      "metadata": {
        "id": "e1618c0d-f6c6-43b7-b1b0-425f52a507fe",
        "outputId": "15d3e5cb-5280-4dfb-8dd3-6a8ef009c561"
      },
      "outputs": [
        {
          "data": {
            "text/plain": [
              "_io.BufferedReader"
            ]
          },
          "execution_count": 7,
          "metadata": {},
          "output_type": "execute_result"
        }
      ],
      "source": [
        "type(thing2)"
      ]
    },
    {
      "cell_type": "code",
      "execution_count": null,
      "id": "a411f553-df15-4458-b2b3-1806f81e6061",
      "metadata": {
        "id": "a411f553-df15-4458-b2b3-1806f81e6061",
        "outputId": "654c0e93-01d2-4464-fa8c-33a56e808d37"
      },
      "outputs": [
        {
          "ename": "TypeError",
          "evalue": "'_io.TextIOWrapper' object is not subscriptable",
          "output_type": "error",
          "traceback": [
            "\u001b[0;31m---------------------------------------------------------------------------\u001b[0m",
            "\u001b[0;31mTypeError\u001b[0m                                 Traceback (most recent call last)",
            "\u001b[0;32m/tmp/ipykernel_529438/2864473595.py\u001b[0m in \u001b[0;36m<module>\u001b[0;34m\u001b[0m\n\u001b[0;32m----> 1\u001b[0;31m \u001b[0mthing\u001b[0m\u001b[0;34m[\u001b[0m\u001b[0;36m1\u001b[0m\u001b[0;34m]\u001b[0m\u001b[0;34m\u001b[0m\u001b[0;34m\u001b[0m\u001b[0m\n\u001b[0m",
            "\u001b[0;31mTypeError\u001b[0m: '_io.TextIOWrapper' object is not subscriptable"
          ]
        }
      ],
      "source": [
        "thing[1]"
      ]
    },
    {
      "cell_type": "code",
      "execution_count": null,
      "id": "9888ee02-bcca-462f-a5ce-99bda92911ea",
      "metadata": {
        "id": "9888ee02-bcca-462f-a5ce-99bda92911ea",
        "outputId": "c1897895-4629-4c8f-c3da-afa65cfc2efa"
      },
      "outputs": [
        {
          "data": {
            "text/plain": [
              "56"
            ]
          },
          "execution_count": 10,
          "metadata": {},
          "output_type": "execute_result"
        }
      ],
      "source": [
        "thing.fileno()"
      ]
    },
    {
      "cell_type": "code",
      "execution_count": null,
      "id": "418ccd70-954f-4e68-9779-27ffeb26cb67",
      "metadata": {
        "id": "418ccd70-954f-4e68-9779-27ffeb26cb67",
        "outputId": "3d0bd66c-cf0f-4e8b-b6e4-b4230740a0ec"
      },
      "outputs": [
        {
          "data": {
            "text/plain": [
              "<_io.BufferedReader name='listdoc.txt'>"
            ]
          },
          "execution_count": 11,
          "metadata": {},
          "output_type": "execute_result"
        }
      ],
      "source": [
        "thing.buffer"
      ]
    },
    {
      "cell_type": "code",
      "execution_count": null,
      "id": "020400ce-4ac1-4ade-a8ad-cb01ff084ed4",
      "metadata": {
        "id": "020400ce-4ac1-4ade-a8ad-cb01ff084ed4",
        "outputId": "9dbbac21-d0e0-4031-e6d3-6a7f30799a26"
      },
      "outputs": [
        {
          "data": {
            "text/plain": [
              "<_io.BufferedReader name='listdoc.txt'>"
            ]
          },
          "execution_count": 12,
          "metadata": {},
          "output_type": "execute_result"
        }
      ],
      "source": [
        "thing2"
      ]
    },
    {
      "cell_type": "code",
      "execution_count": null,
      "id": "2913e70a-c31b-4231-a567-44e4cee58856",
      "metadata": {
        "id": "2913e70a-c31b-4231-a567-44e4cee58856",
        "outputId": "c8cf7f82-1239-4f3b-fb7c-07aa5b017332"
      },
      "outputs": [
        {
          "data": {
            "text/plain": [
              "{'a': 1, 'b': 9, 'c': 7, 'd': 15, 'e': 12, 'f': 4}"
            ]
          },
          "execution_count": 13,
          "metadata": {},
          "output_type": "execute_result"
        }
      ],
      "source": [
        "mydict = dict(a=1,b=9,c=7,d=15,e=12,f=4)\n",
        "mydict"
      ]
    },
    {
      "cell_type": "code",
      "execution_count": null,
      "id": "fbbbd36b-3855-4be4-ba8e-302a07329096",
      "metadata": {
        "id": "fbbbd36b-3855-4be4-ba8e-302a07329096",
        "outputId": "4906f0a3-99e0-4f23-d6e7-6b4408a267cd"
      },
      "outputs": [
        {
          "data": {
            "text/plain": [
              "[('d', 15), ('e', 12), ('b', 9), ('c', 7), ('f', 4), ('a', 1)]"
            ]
          },
          "execution_count": 16,
          "metadata": {},
          "output_type": "execute_result"
        }
      ],
      "source": [
        "sorted(mydict.items(),key=lambda x:x[1],reverse=True)"
      ]
    },
    {
      "cell_type": "code",
      "execution_count": null,
      "id": "c9eea17d-71dd-4618-b5fd-5697dd037b16",
      "metadata": {
        "id": "c9eea17d-71dd-4618-b5fd-5697dd037b16",
        "outputId": "b334e8a8-cedf-4ba4-b7ef-6a33a1fd0a72"
      },
      "outputs": [
        {
          "data": {
            "text/plain": [
              "[('a', 1), ('b', 9), ('c', 7), ('d', 15), ('e', 12), ('f', 4), ('z', 999)]"
            ]
          },
          "execution_count": 24,
          "metadata": {},
          "output_type": "execute_result"
        }
      ],
      "source": [
        "sorted(mydict.items(),key=lambda x:x[0])"
      ]
    },
    {
      "cell_type": "code",
      "execution_count": null,
      "id": "1bd58250-a078-4f91-81d9-7f21771cc9ff",
      "metadata": {
        "id": "1bd58250-a078-4f91-81d9-7f21771cc9ff",
        "outputId": "76ee238c-63b6-4905-ba98-caadc5dd31c7"
      },
      "outputs": [
        {
          "data": {
            "text/plain": [
              "999"
            ]
          },
          "execution_count": 18,
          "metadata": {},
          "output_type": "execute_result"
        }
      ],
      "source": [
        "mydict.setdefault('z',999)"
      ]
    },
    {
      "cell_type": "code",
      "execution_count": null,
      "id": "d2495ead-946e-4eb6-abb5-8f630e677f5a",
      "metadata": {
        "id": "d2495ead-946e-4eb6-abb5-8f630e677f5a",
        "outputId": "36b69e68-d91b-41f4-ee90-fb7daa7f5451"
      },
      "outputs": [
        {
          "data": {
            "text/plain": [
              "{'a': 1, 'b': 9, 'c': 7, 'd': 15, 'e': 12, 'f': 4, 'z': 999}"
            ]
          },
          "execution_count": 19,
          "metadata": {},
          "output_type": "execute_result"
        }
      ],
      "source": [
        "mydict"
      ]
    },
    {
      "cell_type": "code",
      "execution_count": null,
      "id": "39bff859-1c62-4434-ba63-a088a4ba745c",
      "metadata": {
        "id": "39bff859-1c62-4434-ba63-a088a4ba745c",
        "outputId": "a64fda89-a33e-4458-a98b-1fbc6b05158c"
      },
      "outputs": [
        {
          "ename": "TypeError",
          "evalue": "unhashable type: 'list'",
          "output_type": "error",
          "traceback": [
            "\u001b[0;31m---------------------------------------------------------------------------\u001b[0m",
            "\u001b[0;31mTypeError\u001b[0m                                 Traceback (most recent call last)",
            "\u001b[0;32m/tmp/ipykernel_529438/3381172361.py\u001b[0m in \u001b[0;36m<module>\u001b[0;34m\u001b[0m\n\u001b[0;32m----> 1\u001b[0;31m \u001b[0manotherdict\u001b[0m \u001b[0;34m=\u001b[0m \u001b[0;34m{\u001b[0m\u001b[0;34m\"a\"\u001b[0m\u001b[0;34m:\u001b[0m\u001b[0;36m1\u001b[0m\u001b[0;34m,\u001b[0m\u001b[0;36m2\u001b[0m\u001b[0;34m:\u001b[0m\u001b[0;36m3\u001b[0m\u001b[0;34m,\u001b[0m\u001b[0;34m(\u001b[0m\u001b[0;36m1\u001b[0m\u001b[0;34m,\u001b[0m\u001b[0;36m2\u001b[0m\u001b[0;34m)\u001b[0m\u001b[0;34m:\u001b[0m\u001b[0;34m(\u001b[0m\u001b[0;36m2\u001b[0m\u001b[0;34m,\u001b[0m\u001b[0;36m3\u001b[0m\u001b[0;34m)\u001b[0m\u001b[0;34m,\u001b[0m \u001b[0;36m2.5\u001b[0m\u001b[0;34m:\u001b[0m\u001b[0;36m3.7\u001b[0m\u001b[0;34m,\u001b[0m  \u001b[0;34m[\u001b[0m\u001b[0;36m1\u001b[0m\u001b[0;34m,\u001b[0m\u001b[0;36m2\u001b[0m\u001b[0;34m]\u001b[0m\u001b[0;34m:\u001b[0m\u001b[0;34m[\u001b[0m\u001b[0;36m2\u001b[0m\u001b[0;34m,\u001b[0m\u001b[0;36m3\u001b[0m\u001b[0;34m]\u001b[0m \u001b[0;34m}\u001b[0m\u001b[0;34m\u001b[0m\u001b[0;34m\u001b[0m\u001b[0m\n\u001b[0m\u001b[1;32m      2\u001b[0m \u001b[0manotherdict\u001b[0m\u001b[0;34m\u001b[0m\u001b[0;34m\u001b[0m\u001b[0m\n",
            "\u001b[0;31mTypeError\u001b[0m: unhashable type: 'list'"
          ]
        }
      ],
      "source": [
        "anotherdict = {\"a\":1,2:3,(1,2):(2,3), 2.5:3.7,  [1,2]:[2,3] }\n",
        "anotherdict"
      ]
    },
    {
      "cell_type": "code",
      "execution_count": null,
      "id": "19c709f2-a972-4cca-9faa-7fc65207a729",
      "metadata": {
        "id": "19c709f2-a972-4cca-9faa-7fc65207a729",
        "outputId": "aab6e9c9-9e68-426b-9f0a-08a148e70e72"
      },
      "outputs": [
        {
          "data": {
            "text/plain": [
              "['zulu', 'alpha', 'charlie', 'epsilon', 'delta', 'hotel']"
            ]
          },
          "execution_count": 1,
          "metadata": {},
          "output_type": "execute_result"
        }
      ],
      "source": [
        "mylist = \"zulu alpha charlie epsilon delta hotel\".split()\n",
        "mylist"
      ]
    },
    {
      "cell_type": "code",
      "execution_count": null,
      "id": "7a9b48bf-ebff-462b-ae5d-14f5e8e82ad7",
      "metadata": {
        "id": "7a9b48bf-ebff-462b-ae5d-14f5e8e82ad7"
      },
      "outputs": [],
      "source": [
        "mylist.sort()"
      ]
    },
    {
      "cell_type": "code",
      "execution_count": null,
      "id": "36f5d7db-add9-43b6-a394-351401344772",
      "metadata": {
        "id": "36f5d7db-add9-43b6-a394-351401344772",
        "outputId": "b5b91e18-0c62-4233-b6d4-f5c6df14e448"
      },
      "outputs": [
        {
          "data": {
            "text/plain": [
              "['alpha', 'charlie', 'delta', 'epsilon', 'hotel', 'zulu']"
            ]
          },
          "execution_count": 3,
          "metadata": {},
          "output_type": "execute_result"
        }
      ],
      "source": [
        "mylist"
      ]
    },
    {
      "cell_type": "code",
      "execution_count": null,
      "id": "14f74efb-d765-493a-98e3-f3c472cabe0d",
      "metadata": {
        "id": "14f74efb-d765-493a-98e3-f3c472cabe0d"
      },
      "outputs": [],
      "source": [
        "mylist.sort(reverse=True)"
      ]
    },
    {
      "cell_type": "code",
      "execution_count": null,
      "id": "4a9cf486-f7e8-4c45-8987-9ecf6e0bc50a",
      "metadata": {
        "id": "4a9cf486-f7e8-4c45-8987-9ecf6e0bc50a",
        "outputId": "bcb69956-880b-4b45-cb57-5a86ed072c73"
      },
      "outputs": [
        {
          "data": {
            "text/plain": [
              "['zulu', 'hotel', 'epsilon', 'delta', 'charlie', 'alpha']"
            ]
          },
          "execution_count": 5,
          "metadata": {},
          "output_type": "execute_result"
        }
      ],
      "source": [
        "mylist"
      ]
    },
    {
      "cell_type": "code",
      "execution_count": null,
      "id": "19b0d434-1a88-4719-8728-952360136758",
      "metadata": {
        "id": "19b0d434-1a88-4719-8728-952360136758"
      },
      "outputs": [],
      "source": [
        "mylist.sort(key=lambda x:x)"
      ]
    },
    {
      "cell_type": "code",
      "execution_count": null,
      "id": "b7a006d6-2804-48b2-96b0-a8431c11b017",
      "metadata": {
        "id": "b7a006d6-2804-48b2-96b0-a8431c11b017",
        "outputId": "1164e9f2-7750-4582-eb1f-620843f3c93b"
      },
      "outputs": [
        {
          "data": {
            "text/plain": [
              "['alpha', 'charlie', 'delta', 'epsilon', 'hotel', 'zulu']"
            ]
          },
          "execution_count": 7,
          "metadata": {},
          "output_type": "execute_result"
        }
      ],
      "source": [
        "mylist"
      ]
    },
    {
      "cell_type": "code",
      "execution_count": null,
      "id": "6fef00c3-62c9-448f-b6d2-717258c9bd91",
      "metadata": {
        "id": "6fef00c3-62c9-448f-b6d2-717258c9bd91",
        "outputId": "227f189a-b968-4298-de81-bbb29df743a3"
      },
      "outputs": [
        {
          "name": "stdout",
          "output_type": "stream",
          "text": [
            "Help on built-in function sort:\n",
            "\n",
            "sort(*, key=None, reverse=False) method of builtins.list instance\n",
            "    Sort the list in ascending order and return None.\n",
            "    \n",
            "    The sort is in-place (i.e. the list itself is modified) and stable (i.e. the\n",
            "    order of two equal elements is maintained).\n",
            "    \n",
            "    If a key function is given, apply it once to each list item and sort them,\n",
            "    ascending or descending, according to their function values.\n",
            "    \n",
            "    The reverse flag can be set to sort in descending order.\n",
            "\n"
          ]
        }
      ],
      "source": [
        "help(mylist.sort)"
      ]
    },
    {
      "cell_type": "code",
      "execution_count": null,
      "id": "31c906af-6737-45b1-adb2-e08889ecc0bd",
      "metadata": {
        "id": "31c906af-6737-45b1-adb2-e08889ecc0bd"
      },
      "outputs": [],
      "source": [
        "dwight_sales = [192,156,222,224,226,176,193,244,238,156,249,222,173,240,230,183,174,177,214,184]"
      ]
    },
    {
      "cell_type": "code",
      "execution_count": null,
      "id": "40185716-a439-458b-a444-f43110178922",
      "metadata": {
        "id": "40185716-a439-458b-a444-f43110178922"
      },
      "outputs": [],
      "source": [
        "myfilter = filter(lambda number:number%2==1, dwight_sales)"
      ]
    },
    {
      "cell_type": "code",
      "execution_count": null,
      "id": "e8d0fbd8-9a7c-48db-810f-7d8a42ec54ed",
      "metadata": {
        "id": "e8d0fbd8-9a7c-48db-810f-7d8a42ec54ed",
        "outputId": "91e27eca-5a8c-458f-d1ce-50ec9344aeae"
      },
      "outputs": [
        {
          "data": {
            "text/plain": [
              "<filter at 0x7ffbb1ffb490>"
            ]
          },
          "execution_count": 11,
          "metadata": {},
          "output_type": "execute_result"
        }
      ],
      "source": [
        "myfilter"
      ]
    },
    {
      "cell_type": "code",
      "execution_count": null,
      "id": "568ed11e-88a9-4e19-a827-175e48e17f00",
      "metadata": {
        "id": "568ed11e-88a9-4e19-a827-175e48e17f00",
        "outputId": "373262ea-239c-42a0-cb93-1d70c97a0bc9"
      },
      "outputs": [
        {
          "data": {
            "text/plain": [
              "[156,\n",
              " 156,\n",
              " 173,\n",
              " 174,\n",
              " 176,\n",
              " 177,\n",
              " 183,\n",
              " 184,\n",
              " 192,\n",
              " 193,\n",
              " 214,\n",
              " 222,\n",
              " 222,\n",
              " 224,\n",
              " 226,\n",
              " 230,\n",
              " 238,\n",
              " 240,\n",
              " 244,\n",
              " 249]"
            ]
          },
          "execution_count": 13,
          "metadata": {},
          "output_type": "execute_result"
        }
      ],
      "source": [
        "sorted_sales = sorted(dwight_sales, key=lambda x:x)\n",
        "sorted_sales"
      ]
    },
    {
      "cell_type": "code",
      "execution_count": null,
      "id": "28f61dc0-b1da-475e-9756-d61b81f10919",
      "metadata": {
        "id": "28f61dc0-b1da-475e-9756-d61b81f10919",
        "outputId": "40287b17-6640-48d9-875c-e045f1106cba"
      },
      "outputs": [
        {
          "data": {
            "text/plain": [
              "[193, 249, 173, 183, 177]"
            ]
          },
          "execution_count": 14,
          "metadata": {},
          "output_type": "execute_result"
        }
      ],
      "source": [
        "list(myfilter)"
      ]
    },
    {
      "cell_type": "code",
      "execution_count": null,
      "id": "87d39d34-ef41-4561-b220-e337865a6000",
      "metadata": {
        "id": "87d39d34-ef41-4561-b220-e337865a6000",
        "outputId": "5922ba6c-40a9-4378-b64b-672e2cbeb733"
      },
      "outputs": [
        {
          "name": "stdout",
          "output_type": "stream",
          "text": [
            "120\n"
          ]
        }
      ],
      "source": [
        "from functools import reduce\n",
        "\n",
        "numbers = [2, 3, 4, 5]\n",
        "product = reduce(lambda x, y: x * y, numbers)\n",
        "\n",
        "print(product)"
      ]
    },
    {
      "cell_type": "code",
      "execution_count": null,
      "id": "3eb5577d-14e3-4b39-bfab-f954cc9692f8",
      "metadata": {
        "id": "3eb5577d-14e3-4b39-bfab-f954cc9692f8"
      },
      "outputs": [],
      "source": [
        "product = reduce(lambda x,y: x*x , numbers)"
      ]
    },
    {
      "cell_type": "code",
      "execution_count": null,
      "id": "29f72fae-957b-4207-875c-665c06d55ee4",
      "metadata": {
        "id": "29f72fae-957b-4207-875c-665c06d55ee4",
        "outputId": "d0dac76d-e513-4394-c829-30c6ce169067"
      },
      "outputs": [
        {
          "data": {
            "text/plain": [
              "256"
            ]
          },
          "execution_count": 19,
          "metadata": {},
          "output_type": "execute_result"
        }
      ],
      "source": [
        "product"
      ]
    },
    {
      "cell_type": "code",
      "execution_count": null,
      "id": "0ec450b5-c9c2-45fc-954b-feb43880f410",
      "metadata": {
        "id": "0ec450b5-c9c2-45fc-954b-feb43880f410",
        "outputId": "9b26ac99-1acc-49cf-b646-076780852063"
      },
      "outputs": [
        {
          "ename": "TypeError",
          "evalue": "<lambda>() missing 1 required positional argument: 'z'",
          "output_type": "error",
          "traceback": [
            "\u001b[0;31m---------------------------------------------------------------------------\u001b[0m",
            "\u001b[0;31mTypeError\u001b[0m                                 Traceback (most recent call last)",
            "\u001b[0;32m/tmp/ipykernel_16927/1222150761.py\u001b[0m in \u001b[0;36m<module>\u001b[0;34m\u001b[0m\n\u001b[0;32m----> 1\u001b[0;31m \u001b[0mproduct\u001b[0m \u001b[0;34m=\u001b[0m \u001b[0mreduce\u001b[0m\u001b[0;34m(\u001b[0m\u001b[0;32mlambda\u001b[0m \u001b[0mx\u001b[0m\u001b[0;34m,\u001b[0m\u001b[0my\u001b[0m\u001b[0;34m,\u001b[0m\u001b[0mz\u001b[0m\u001b[0;34m:\u001b[0m \u001b[0;34m(\u001b[0m\u001b[0mx\u001b[0m\u001b[0;34m,\u001b[0m\u001b[0my\u001b[0m\u001b[0;34m,\u001b[0m\u001b[0mz\u001b[0m\u001b[0;34m)\u001b[0m \u001b[0;34m,\u001b[0m \u001b[0mnumbers\u001b[0m\u001b[0;34m)\u001b[0m\u001b[0;34m\u001b[0m\u001b[0;34m\u001b[0m\u001b[0m\n\u001b[0m\u001b[1;32m      2\u001b[0m \u001b[0mproduct\u001b[0m\u001b[0;34m\u001b[0m\u001b[0;34m\u001b[0m\u001b[0m\n",
            "\u001b[0;31mTypeError\u001b[0m: <lambda>() missing 1 required positional argument: 'z'"
          ]
        }
      ],
      "source": [
        "product = reduce(lambda x,y,z: (x,y,z) , numbers)\n",
        "product"
      ]
    },
    {
      "cell_type": "code",
      "execution_count": null,
      "id": "ca6bba14-7823-49dd-ad15-88c19e6d3ae4",
      "metadata": {
        "id": "ca6bba14-7823-49dd-ad15-88c19e6d3ae4"
      },
      "outputs": [],
      "source": [
        "import sys\n",
        "import platform\n",
        "import os"
      ]
    },
    {
      "cell_type": "code",
      "execution_count": null,
      "id": "60321ebf-3309-4d09-aed4-6b4239f41844",
      "metadata": {
        "id": "60321ebf-3309-4d09-aed4-6b4239f41844",
        "outputId": "922f237a-611c-4902-c281-90a0e9589d57"
      },
      "outputs": [
        {
          "data": {
            "text/plain": [
              "['/media/rob/PCI_NVME/JupyterNotebooks',\n",
              " '/home/rob/anaconda3/lib/python39.zip',\n",
              " '/home/rob/anaconda3/lib/python3.9',\n",
              " '/home/rob/anaconda3/lib/python3.9/lib-dynload',\n",
              " '',\n",
              " '/home/rob/anaconda3/lib/python3.9/site-packages',\n",
              " '/home/rob/anaconda3/lib/python3.9/site-packages/IPython/extensions',\n",
              " '/home/rob/.ipython']"
            ]
          },
          "execution_count": 25,
          "metadata": {},
          "output_type": "execute_result"
        }
      ],
      "source": [
        "sys.path"
      ]
    },
    {
      "cell_type": "code",
      "execution_count": null,
      "id": "8c38699a-b393-4c7f-a9aa-ccce9837d151",
      "metadata": {
        "id": "8c38699a-b393-4c7f-a9aa-ccce9837d151"
      },
      "outputs": [],
      "source": [
        "################################################################################\n",
        "### reduce() sequence to a single item\n",
        "################################################################################\n",
        "\n",
        "_initial_missing = object()\n",
        "\n",
        "def myreduce(function, sequence, initial=_initial_missing):\n",
        "    \"\"\"\n",
        "    reduce(function, sequence[, initial]) -> value\n",
        "\n",
        "    Apply a function of two arguments cumulatively to the items of a sequence,\n",
        "    from left to right, so as to reduce the sequence to a single value.\n",
        "    For example, reduce(lambda x, y: x+y, [1, 2, 3, 4, 5]) calculates\n",
        "    ((((1+2)+3)+4)+5).  If initial is present, it is placed before the items\n",
        "    of the sequence in the calculation, and serves as a default when the\n",
        "    sequence is empty.\n",
        "    \"\"\"\n",
        "\n",
        "    it = iter(sequence)\n",
        "\n",
        "    if initial is _initial_missing:\n",
        "        try:\n",
        "            value = next(it)\n",
        "        except StopIteration:\n",
        "            raise TypeError(\"reduce() of empty sequence with no initial value\") from None\n",
        "    else:\n",
        "        value = initial\n",
        "\n",
        "    for element in it:\n",
        "        value = function(value, element)\n",
        "\n",
        "    return value"
      ]
    },
    {
      "cell_type": "code",
      "execution_count": null,
      "id": "29e06c15-f9af-4db3-9233-92683b5af069",
      "metadata": {
        "id": "29e06c15-f9af-4db3-9233-92683b5af069",
        "outputId": "84efccc2-4032-4960-f15d-fa2253217663"
      },
      "outputs": [
        {
          "data": {
            "text/plain": [
              "120"
            ]
          },
          "execution_count": 27,
          "metadata": {},
          "output_type": "execute_result"
        }
      ],
      "source": [
        "myreduce(lambda x, y: x * y, numbers)"
      ]
    },
    {
      "cell_type": "code",
      "execution_count": null,
      "id": "14c7aced-b36f-4706-9793-a16b292f7bf5",
      "metadata": {
        "id": "14c7aced-b36f-4706-9793-a16b292f7bf5",
        "outputId": "35633947-b58d-4c60-e294-6a3b56d49276"
      },
      "outputs": [
        {
          "name": "stdout",
          "output_type": "stream",
          "text": [
            "Help on built-in function iter in module builtins:\n",
            "\n",
            "iter(...)\n",
            "    iter(iterable) -> iterator\n",
            "    iter(callable, sentinel) -> iterator\n",
            "    \n",
            "    Get an iterator from an object.  In the first form, the argument must\n",
            "    supply its own iterator, or be a sequence.\n",
            "    In the second form, the callable is called until it returns the sentinel.\n",
            "\n"
          ]
        }
      ],
      "source": [
        "help(iter)"
      ]
    },
    {
      "cell_type": "code",
      "execution_count": null,
      "id": "deaf0f38-8ec4-4ef4-a30c-76a9b0317096",
      "metadata": {
        "id": "deaf0f38-8ec4-4ef4-a30c-76a9b0317096"
      },
      "outputs": [],
      "source": [
        "number1 = 987654321987654321987654321"
      ]
    },
    {
      "cell_type": "code",
      "execution_count": null,
      "id": "0a2ff9be-a827-41d4-ae57-f4b15064c1f1",
      "metadata": {
        "id": "0a2ff9be-a827-41d4-ae57-f4b15064c1f1",
        "outputId": "495850f4-b6e4-46ff-a38d-dcbf09c9a185"
      },
      "outputs": [
        {
          "data": {
            "text/plain": [
              "(987654321987654321987654321, -987654321987654321987654321)"
            ]
          },
          "execution_count": 33,
          "metadata": {},
          "output_type": "execute_result"
        }
      ],
      "source": [
        "number1,-number1"
      ]
    },
    {
      "cell_type": "code",
      "execution_count": null,
      "id": "79601c2a-f48d-4d29-81e9-ad5ed610f12d",
      "metadata": {
        "id": "79601c2a-f48d-4d29-81e9-ad5ed610f12d",
        "outputId": "baaec78a-894e-425b-901c-7a3799b88972"
      },
      "outputs": [
        {
          "data": {
            "text/plain": [
              "-987654321987654321987654321"
            ]
          },
          "execution_count": 34,
          "metadata": {},
          "output_type": "execute_result"
        }
      ],
      "source": [
        "number2 = int(\"-987654321987654321987654321\")\n",
        "number2"
      ]
    },
    {
      "cell_type": "code",
      "execution_count": null,
      "id": "8db342ac-ec10-4c61-9c59-a3199e5d8b62",
      "metadata": {
        "id": "8db342ac-ec10-4c61-9c59-a3199e5d8b62",
        "outputId": "b386ac3c-0a9a-44bb-802b-c2224eaa11e7"
      },
      "outputs": [
        {
          "data": {
            "text/plain": [
              "9.876543219876543e+26"
            ]
          },
          "execution_count": 35,
          "metadata": {},
          "output_type": "execute_result"
        }
      ],
      "source": [
        "float1 = 987654321987654321987654321.\n",
        "float1"
      ]
    },
    {
      "cell_type": "code",
      "execution_count": null,
      "id": "237fa258-b517-4a67-bb1d-0cc3071f8e39",
      "metadata": {
        "id": "237fa258-b517-4a67-bb1d-0cc3071f8e39"
      },
      "outputs": [],
      "source": [
        "import decimal"
      ]
    },
    {
      "cell_type": "code",
      "execution_count": null,
      "id": "f1a030e9-3a82-45ce-b158-c4c6b52576c4",
      "metadata": {
        "id": "f1a030e9-3a82-45ce-b158-c4c6b52576c4"
      },
      "outputs": [],
      "source": [
        "import numpy"
      ]
    },
    {
      "cell_type": "code",
      "execution_count": null,
      "id": "f35b7e60-f7ec-458f-b261-ad68f74860a3",
      "metadata": {
        "id": "f35b7e60-f7ec-458f-b261-ad68f74860a3"
      },
      "outputs": [],
      "source": [
        "decimal1 = decimal.Decimal(987654321987654321987654321.)"
      ]
    },
    {
      "cell_type": "code",
      "execution_count": null,
      "id": "9ce2d61f-0286-46bd-ba49-0c8a5c0e243f",
      "metadata": {
        "id": "9ce2d61f-0286-46bd-ba49-0c8a5c0e243f",
        "outputId": "52a60cce-6231-4ee0-b20f-e97dbabcf1a5"
      },
      "outputs": [
        {
          "data": {
            "text/plain": [
              "Decimal('987654321987654258182324224')"
            ]
          },
          "execution_count": 38,
          "metadata": {},
          "output_type": "execute_result"
        }
      ],
      "source": [
        "decimal1"
      ]
    },
    {
      "cell_type": "code",
      "execution_count": null,
      "id": "442cf1ef-279b-4887-ab46-0658528c8df9",
      "metadata": {
        "id": "442cf1ef-279b-4887-ab46-0658528c8df9",
        "outputId": "f5834d66-f8fc-477e-a08e-385af46a7f0f"
      },
      "outputs": [
        {
          "data": {
            "text/plain": [
              "Decimal('9.8699999999999992184029906638897955417633056640625')"
            ]
          },
          "execution_count": 43,
          "metadata": {},
          "output_type": "execute_result"
        }
      ],
      "source": [
        "decimal2 = decimal.Decimal(9.87)\n",
        "decimal2"
      ]
    },
    {
      "cell_type": "code",
      "execution_count": null,
      "id": "848bf3df-8a3d-431c-b9df-b9e6b446d3da",
      "metadata": {
        "id": "848bf3df-8a3d-431c-b9df-b9e6b446d3da",
        "outputId": "b061f97d-74d6-429d-ce9c-fc508f677606"
      },
      "outputs": [
        {
          "data": {
            "text/plain": [
              "9.876543219876543"
            ]
          },
          "execution_count": 45,
          "metadata": {},
          "output_type": "execute_result"
        }
      ],
      "source": [
        "float2 = 9.87654321987654321987654321\n",
        "float2"
      ]
    },
    {
      "cell_type": "code",
      "execution_count": null,
      "id": "6adb96ee-4646-4e61-8990-c5aece78d597",
      "metadata": {
        "id": "6adb96ee-4646-4e61-8990-c5aece78d597"
      },
      "outputs": [],
      "source": [
        "datatypes = [\n",
        "    [\"bool\", \"int\",\"float\",\"str\",\"bytes\"],\n",
        "    [\"list\",\"tuple\",\"set\",\"dictionary\",\"array.array\",\"numpy.ndarray\",\"class\"]\n",
        "    ]"
      ]
    },
    {
      "cell_type": "code",
      "execution_count": null,
      "id": "aced0508-529e-4816-93f3-0c11b21f7898",
      "metadata": {
        "id": "aced0508-529e-4816-93f3-0c11b21f7898",
        "outputId": "5d24b8a3-320b-486b-d6d4-309757523e91"
      },
      "outputs": [
        {
          "data": {
            "text/plain": [
              "(False, True)"
            ]
          },
          "execution_count": 76,
          "metadata": {},
          "output_type": "execute_result"
        }
      ],
      "source": [
        "bool(0), bool(1)"
      ]
    },
    {
      "cell_type": "code",
      "execution_count": null,
      "id": "786fca27-916a-486a-b5d4-adc2f7551e7b",
      "metadata": {
        "id": "786fca27-916a-486a-b5d4-adc2f7551e7b",
        "outputId": "e5467222-1a93-4cfa-ad7e-e7b967fb6985"
      },
      "outputs": [
        {
          "data": {
            "text/plain": [
              "(True, True, False)"
            ]
          },
          "execution_count": 78,
          "metadata": {},
          "output_type": "execute_result"
        }
      ],
      "source": [
        "False or True,  True and True,  True and False"
      ]
    },
    {
      "cell_type": "code",
      "execution_count": null,
      "id": "3082f1d5-d30c-461c-822b-588f6140346d",
      "metadata": {
        "id": "3082f1d5-d30c-461c-822b-588f6140346d",
        "outputId": "130b843a-d1c1-4b71-fce8-d231163bc264"
      },
      "outputs": [
        {
          "data": {
            "text/plain": [
              "['list', 'tuple', 'set', 'dictionary']"
            ]
          },
          "execution_count": 50,
          "metadata": {},
          "output_type": "execute_result"
        }
      ],
      "source": [
        "datatypes[1]"
      ]
    },
    {
      "cell_type": "code",
      "execution_count": null,
      "id": "8e88036f-04e5-4f08-860a-e6ba03d44799",
      "metadata": {
        "id": "8e88036f-04e5-4f08-860a-e6ba03d44799",
        "outputId": "8811e907-15b4-408e-b092-78d7bdae6a24"
      },
      "outputs": [
        {
          "data": {
            "text/plain": [
              "(b'abc', bytes)"
            ]
          },
          "execution_count": 79,
          "metadata": {},
          "output_type": "execute_result"
        }
      ],
      "source": [
        "mybytes = b\"abc\"\n",
        "mybytes, type(mybytes)"
      ]
    },
    {
      "cell_type": "code",
      "execution_count": null,
      "id": "7d8b27d7-136d-4a2f-b273-24985b025801",
      "metadata": {
        "id": "7d8b27d7-136d-4a2f-b273-24985b025801"
      },
      "outputs": [],
      "source": [
        "# Creating a bytes object from a list of integers\n",
        "byte_data = bytes([72, 101, 108, 108, 111])  # b'Hello'\n",
        "\n",
        "# Creating a bytes object from a string\n",
        "encoded_bytes = bytes(\"Hello, world!\", encoding='utf-8')\n",
        "\n",
        "# Creating a bytes object from size\n",
        "null_bytes = bytes(5)\n",
        "\n",
        "# Converting bytes back to a string\n",
        "decoded_string = encoded_bytes.decode('utf-8')  # 'Hello, world!'\n",
        "\n",
        "# Getting hexadecimal representation\n",
        "hex_representation = encoded_bytes.hex()  # '48656c6c6f2c20776f726c6421'"
      ]
    },
    {
      "cell_type": "code",
      "execution_count": null,
      "id": "32672034-b970-4b32-9cc9-1ae7248db0b6",
      "metadata": {
        "id": "32672034-b970-4b32-9cc9-1ae7248db0b6",
        "outputId": "9f60958d-405a-4159-f2a9-9acb3b147c12"
      },
      "outputs": [
        {
          "data": {
            "text/plain": [
              "'48656c6c6f2c20776f726c6421'"
            ]
          },
          "execution_count": 57,
          "metadata": {},
          "output_type": "execute_result"
        }
      ],
      "source": [
        "hex_representation"
      ]
    },
    {
      "cell_type": "code",
      "execution_count": null,
      "id": "7e8b2dd3-1764-4a7d-8300-7855cd7d00db",
      "metadata": {
        "id": "7e8b2dd3-1764-4a7d-8300-7855cd7d00db",
        "outputId": "05017798-474d-4358-c145-f79c951e56e2"
      },
      "outputs": [
        {
          "data": {
            "text/plain": [
              "b'Hello'"
            ]
          },
          "execution_count": 58,
          "metadata": {},
          "output_type": "execute_result"
        }
      ],
      "source": [
        "byte_data"
      ]
    },
    {
      "cell_type": "code",
      "execution_count": null,
      "id": "d7628623-f938-4c47-b7c1-a804e19b7bd3",
      "metadata": {
        "id": "d7628623-f938-4c47-b7c1-a804e19b7bd3",
        "outputId": "dba36d12-aff4-4688-b84e-a7181d7e6b16"
      },
      "outputs": [
        {
          "data": {
            "text/plain": [
              "array('i', [1, 2, 3, 4, 5])"
            ]
          },
          "execution_count": 75,
          "metadata": {},
          "output_type": "execute_result"
        }
      ],
      "source": [
        "import array\n",
        "# Create an array of signed integers (type 'i')\n",
        "lame_array = array.array('i', [1, 2, 3, 4, 5])\n",
        "lame_array"
      ]
    },
    {
      "cell_type": "code",
      "execution_count": null,
      "id": "b8f5c96c-cfc7-40b7-bbd8-a31c4d289240",
      "metadata": {
        "id": "b8f5c96c-cfc7-40b7-bbd8-a31c4d289240",
        "outputId": "25612f69-117c-48e7-a692-7f8f7c8ab4ef"
      },
      "outputs": [
        {
          "name": "stdout",
          "output_type": "stream",
          "text": [
            "[[1 2 3]\n",
            " [4 5 6]\n",
            " [7 8 9]]\n"
          ]
        }
      ],
      "source": [
        "import numpy as np\n",
        "\n",
        "# Create a 2-dimensional array with explicit data\n",
        "data = np.array([[1, 2, 3], [4, 5, 6], [7, 8, 9]], dtype=np.int32)\n",
        "print(data)"
      ]
    },
    {
      "cell_type": "code",
      "execution_count": null,
      "id": "8f0c63e2-f80e-4c97-8612-935b7d6c1e1d",
      "metadata": {
        "id": "8f0c63e2-f80e-4c97-8612-935b7d6c1e1d",
        "outputId": "603ee4ac-231d-44cc-ffc3-5c68a7ac46b2"
      },
      "outputs": [
        {
          "data": {
            "text/plain": [
              "numpy.ndarray"
            ]
          },
          "execution_count": 67,
          "metadata": {},
          "output_type": "execute_result"
        }
      ],
      "source": [
        "type(data)"
      ]
    },
    {
      "cell_type": "code",
      "execution_count": null,
      "id": "d206a36b-a2a6-443d-a6f9-08639abb7277",
      "metadata": {
        "id": "d206a36b-a2a6-443d-a6f9-08639abb7277",
        "outputId": "9bd93392-f43a-4954-8268-1ce002c9ecdc"
      },
      "outputs": [
        {
          "data": {
            "text/plain": [
              "array([1, 2, 3], dtype=int32)"
            ]
          },
          "execution_count": 68,
          "metadata": {},
          "output_type": "execute_result"
        }
      ],
      "source": [
        "data[0]"
      ]
    },
    {
      "cell_type": "code",
      "execution_count": null,
      "id": "a5a2af72-5eeb-40b7-8fc7-31d7f3261efe",
      "metadata": {
        "id": "a5a2af72-5eeb-40b7-8fc7-31d7f3261efe",
        "outputId": "391a6365-fbb7-4323-dbce-851571d3f553"
      },
      "outputs": [
        {
          "data": {
            "text/plain": [
              "array([1, 2, 3], dtype=int32)"
            ]
          },
          "execution_count": 70,
          "metadata": {},
          "output_type": "execute_result"
        }
      ],
      "source": [
        "data[0,:]"
      ]
    },
    {
      "cell_type": "code",
      "execution_count": null,
      "id": "15e82c87-e58f-4118-ab1f-a9f0cef2f647",
      "metadata": {
        "id": "15e82c87-e58f-4118-ab1f-a9f0cef2f647",
        "outputId": "ac07349b-1e75-4432-c86e-af020cf1a894"
      },
      "outputs": [
        {
          "data": {
            "text/plain": [
              "array([1, 4, 7], dtype=int32)"
            ]
          },
          "execution_count": 69,
          "metadata": {},
          "output_type": "execute_result"
        }
      ],
      "source": [
        "data[:,0]"
      ]
    },
    {
      "cell_type": "code",
      "execution_count": null,
      "id": "eaa7b13a-c726-4307-b54e-0e187c3866f2",
      "metadata": {
        "id": "eaa7b13a-c726-4307-b54e-0e187c3866f2"
      },
      "outputs": [],
      "source": [
        "squarelist = [[1, 2, 3], [4, 5, 6], [7, 8, 9]]"
      ]
    },
    {
      "cell_type": "code",
      "execution_count": null,
      "id": "edef2088-f18b-4ea5-b71c-9cab03932eff",
      "metadata": {
        "id": "edef2088-f18b-4ea5-b71c-9cab03932eff",
        "outputId": "8d130c06-3895-4b76-9eb0-0de62917e89c"
      },
      "outputs": [
        {
          "name": "stdout",
          "output_type": "stream",
          "text": [
            "Uppercase Greek Letters:\n",
            "Α: U+0391\n",
            "Β: U+0392\n",
            "Γ: U+0393\n",
            "Δ: U+0394\n",
            "Ε: U+0395\n",
            "Ζ: U+0396\n",
            "Η: U+0397\n",
            "Θ: U+0398\n",
            "Ι: U+0399\n",
            "Κ: U+039A\n",
            "Λ: U+039B\n",
            "Μ: U+039C\n",
            "Ν: U+039D\n",
            "Ξ: U+039E\n",
            "Ο: U+039F\n",
            "Π: U+03A0\n",
            "Ρ: U+03A1\n",
            "΢: U+03A2\n",
            "Σ: U+03A3\n",
            "Τ: U+03A4\n",
            "Υ: U+03A5\n",
            "Φ: U+03A6\n",
            "Χ: U+03A7\n",
            "Ψ: U+03A8\n",
            "Ω: U+03A9\n",
            "Lowercase Greek Letters:\n",
            "α: U+03B1\n",
            "β: U+03B2\n",
            "γ: U+03B3\n",
            "δ: U+03B4\n",
            "ε: U+03B5\n",
            "ζ: U+03B6\n",
            "η: U+03B7\n",
            "θ: U+03B8\n",
            "ι: U+03B9\n",
            "κ: U+03BA\n",
            "λ: U+03BB\n",
            "μ: U+03BC\n",
            "ν: U+03BD\n",
            "ξ: U+03BE\n",
            "ο: U+03BF\n",
            "π: U+03C0\n",
            "ρ: U+03C1\n",
            "ς: U+03C2\n",
            "σ: U+03C3\n",
            "τ: U+03C4\n",
            "υ: U+03C5\n",
            "φ: U+03C6\n",
            "χ: U+03C7\n",
            "ψ: U+03C8\n",
            "ω: U+03C9\n"
          ]
        }
      ],
      "source": [
        "# Generate a set of uppercase and lowercase Greek letters along with their Unicode code points\n",
        "greek_letters = {\n",
        "    'Uppercase': {chr(code): code for code in range(0x0391, 0x03AA)},\n",
        "    'Lowercase': {chr(code): code for code in range(0x03B1, 0x03CA)}\n",
        "}\n",
        "\n",
        "# Display the Greek letters and their Unicode code points\n",
        "for letter_type, letters in greek_letters.items():\n",
        "    print(f\"{letter_type} Greek Letters:\")\n",
        "    for letter, code in letters.items():\n",
        "        print(f\"{letter}: U+{code:04X}\")\n"
      ]
    },
    {
      "cell_type": "code",
      "execution_count": null,
      "id": "a1abb7a7-8cb0-48a4-a6ad-62b6df5f4d08",
      "metadata": {
        "id": "a1abb7a7-8cb0-48a4-a6ad-62b6df5f4d08",
        "outputId": "58647944-1788-4c94-c230-1ff0be1c576d"
      },
      "outputs": [
        {
          "data": {
            "text/plain": [
              "[1, 2, 3]"
            ]
          },
          "execution_count": 84,
          "metadata": {},
          "output_type": "execute_result"
        }
      ],
      "source": [
        "λ = [1,2,3]\n",
        "λ"
      ]
    },
    {
      "cell_type": "code",
      "execution_count": null,
      "id": "57813101-cd9f-4a75-b50f-aefc706a2dc9",
      "metadata": {
        "id": "57813101-cd9f-4a75-b50f-aefc706a2dc9",
        "outputId": "255c3a9a-f4e9-450c-81dc-79d70155e8a9"
      },
      "outputs": [
        {
          "name": "stdout",
          "output_type": "stream",
          "text": [
            "rank of matrix: 2\n",
            "number of vectors: 3\n",
            "Vectors are linearly independent: False\n",
            "Least-squares solution x: [[ 7. -9.]]\n"
          ]
        },
        {
          "name": "stderr",
          "output_type": "stream",
          "text": [
            "/tmp/ipykernel_16927/1124348610.py:31: FutureWarning: `rcond` parameter will change to the default of machine precision times ``max(M, N)`` where M and N are the input matrix dimensions.\n",
            "To use the future default and silence this warning we advise to pass `rcond=None`, to keep using the old, explicitly pass `rcond=-1`.\n",
            "  x, residuals, rank, s = np.linalg.lstsq(A, b)\n"
          ]
        }
      ],
      "source": [
        "import numpy as np\n",
        "\n",
        "# Example vectors as columns of a matrix\n",
        "vectors_matrix = np.array([[0, -27, 3],\n",
        "                           [2, 5, 1],\n",
        "                           [5, -37, 8]])\n",
        "\n",
        "\n",
        "# The rank of a matrix is the maximum number of linearly independent rows or columns in the matrix. In other words, it represents the dimension of the vector space spanned by the rows or columns of the matrix.\n",
        "\n",
        "# For a matrix with 'm' rows and 'n' columns:\n",
        "\n",
        "# The rank of the matrix is at most min(m, n).\n",
        "# If the rank is less than min(m, n), it means that there are linearly dependent rows or columns in the matrix.\n",
        "\n",
        "rank = np.linalg.matrix_rank(vectors_matrix)\n",
        "print(\"rank of matrix:\",rank)\n",
        "\n",
        "# Check if the vectors are linearly independent\n",
        "num_vectors = vectors_matrix.shape[1]\n",
        "print(\"number of vectors:\", num_vectors)\n",
        "are_linearly_independent = rank == num_vectors\n",
        "\n",
        "print(\"Vectors are linearly independent:\", are_linearly_independent)\n",
        "\n",
        "A = np.array([\n",
        "                           [0,  3],\n",
        "                           [2,  1],\n",
        "                           [5,  8]\n",
        "                        ])\n",
        "b = np.array([\n",
        "                           [-27],\n",
        "                           [5],\n",
        "                           [-37]\n",
        "                        ])\n",
        "\n",
        "# Find the least-squares solution\n",
        "x, residuals, rank, s = np.linalg.lstsq(A, b)\n",
        "print(\"Least-squares solution x:\", x.T)"
      ]
    },
    {
      "cell_type": "markdown",
      "id": "bed2f7ca-1f25-485f-a289-8bd48bd90312",
      "metadata": {
        "id": "bed2f7ca-1f25-485f-a289-8bd48bd90312"
      },
      "source": [
        "![image.png](attachment:28806b54-33f6-4f95-9c84-e5153e42a1ad.png)"
      ]
    },
    {
      "cell_type": "code",
      "execution_count": null,
      "id": "0bc2d75e-4727-4c6b-a2ea-324afcaf4c3f",
      "metadata": {
        "id": "0bc2d75e-4727-4c6b-a2ea-324afcaf4c3f",
        "outputId": "ffb09523-0bec-4b13-9a7b-1e213b9780cf"
      },
      "outputs": [
        {
          "name": "stdout",
          "output_type": "stream",
          "text": [
            "Coefficients: [-25.33333333  41.66666667 -16.        ]\n"
          ]
        }
      ],
      "source": [
        "import numpy as np\n",
        "\n",
        "# Example vectors as columns of a matrix\n",
        "vectors_matrix = np.array([[1, 2, 3],\n",
        "                           [4, 5, 6],\n",
        "                           [7, 8, 9]])\n",
        "\n",
        "# Example target vector\n",
        "target_vector = np.array([10, 11, 12])\n",
        "\n",
        "# Solve the linear system to find the coefficients\n",
        "coefficients = np.linalg.solve(vectors_matrix, target_vector)\n",
        "\n",
        "print(\"Coefficients:\", coefficients)"
      ]
    },
    {
      "cell_type": "code",
      "execution_count": null,
      "id": "6d2df116-0bd3-4040-bd94-4a986ded1e5a",
      "metadata": {
        "id": "6d2df116-0bd3-4040-bd94-4a986ded1e5a"
      },
      "outputs": [],
      "source": [
        "import numpy as np\n",
        "\n",
        "# Create a NumPy array (you can replace this with your own array)\n",
        "numpy_array = np.array([[1, 2, 3], [4, 5, 6], [7, 8, 9]])\n",
        "\n",
        "# Save the NumPy array to a file\n",
        "np.save(\"numpy_array.npy\", numpy_array)"
      ]
    },
    {
      "cell_type": "code",
      "execution_count": null,
      "id": "8993ba14-001c-4261-b3ba-b5dd9ee0336a",
      "metadata": {
        "id": "8993ba14-001c-4261-b3ba-b5dd9ee0336a",
        "outputId": "2c86a4ad-19c0-4563-cd79-5927691de3ed"
      },
      "outputs": [
        {
          "data": {
            "text/plain": [
              "array([[11, 13, 15],\n",
              "       [14, 16, 18],\n",
              "       [17, 19, 21]])"
            ]
          },
          "execution_count": 98,
          "metadata": {},
          "output_type": "execute_result"
        }
      ],
      "source": [
        "vectors_matrix + target_vector.T"
      ]
    },
    {
      "cell_type": "code",
      "execution_count": null,
      "id": "d6bc0340-a65a-493a-8214-a66c62a53b7c",
      "metadata": {
        "id": "d6bc0340-a65a-493a-8214-a66c62a53b7c",
        "outputId": "29bf6fbb-1c18-42cc-f6a2-0970011831c1"
      },
      "outputs": [
        {
          "data": {
            "text/plain": [
              "array([[0.25555646, 0.20136565],\n",
              "       [0.23762723, 0.08473555],\n",
              "       [0.01583758, 0.51619921],\n",
              "       [0.52831854, 0.05486811]])"
            ]
          },
          "execution_count": 102,
          "metadata": {},
          "output_type": "execute_result"
        }
      ],
      "source": [
        "randomarray = np.random.rand( 4,2 )\n",
        "randomarray"
      ]
    },
    {
      "cell_type": "markdown",
      "id": "5c66a5aa-4a5d-4a99-a326-226bb06365da",
      "metadata": {
        "id": "5c66a5aa-4a5d-4a99-a326-226bb06365da"
      },
      "source": [
        "order{‘C’, ‘F’, ‘A’, or ‘K’}, optional\n",
        "Overrides the memory layout of the result. ‘C’ means C-order, ‘F’ means F-order, ‘A’ means ‘F’ if a is Fortran contiguous, ‘C’ otherwise. ‘K’ means match the layout of a as closely as possible.\n",
        "\n",
        "shapeint or sequence of ints, optional.\n",
        "Overrides the shape of the result. If order=’K’ and the number of dimensions is unchanged, will try to keep order, otherwise, order=’C’ is implied."
      ]
    },
    {
      "cell_type": "code",
      "execution_count": null,
      "id": "98ac3023-c2eb-4fcb-ba78-aa05e6fbf45b",
      "metadata": {
        "id": "98ac3023-c2eb-4fcb-ba78-aa05e6fbf45b",
        "outputId": "57b39f45-b07e-4479-9bb0-dcc77495f8dc"
      },
      "outputs": [
        {
          "data": {
            "text/plain": [
              "array([[7., 7.],\n",
              "       [7., 7.],\n",
              "       [7., 7.],\n",
              "       [7., 7.]])"
            ]
          },
          "execution_count": 104,
          "metadata": {},
          "output_type": "execute_result"
        }
      ],
      "source": [
        "np.full_like(randomarray, 7, order='K')"
      ]
    },
    {
      "cell_type": "code",
      "execution_count": null,
      "id": "b9f0ffc1-fab0-4074-8582-a9dfa7edddba",
      "metadata": {
        "id": "b9f0ffc1-fab0-4074-8582-a9dfa7edddba",
        "outputId": "4f5b27a1-489c-446a-b680-c0006650e7cb"
      },
      "outputs": [
        {
          "data": {
            "text/plain": [
              "array([[1, 1, 1, 1],\n",
              "       [1, 1, 1, 1],\n",
              "       [1, 1, 1, 1]], dtype=int8)"
            ]
          },
          "execution_count": 108,
          "metadata": {},
          "output_type": "execute_result"
        }
      ],
      "source": [
        "myones = np.ones( (3,4), dtype=np.int8)\n",
        "myones"
      ]
    },
    {
      "cell_type": "code",
      "execution_count": null,
      "id": "5dfa92da-3483-42b4-9905-94d7e789c325",
      "metadata": {
        "id": "5dfa92da-3483-42b4-9905-94d7e789c325",
        "outputId": "6d46a440-cffb-4cf0-82ad-42b0c13b9010"
      },
      "outputs": [
        {
          "data": {
            "text/plain": [
              "array([[0.49892222, 0.80696207, 0.23269805, 0.55283567],\n",
              "       [0.80789394, 0.87494092, 0.91216878, 0.55436462],\n",
              "       [0.51167018, 0.5765158 , 0.59112791, 0.86489824]])"
            ]
          },
          "execution_count": 110,
          "metadata": {},
          "output_type": "execute_result"
        }
      ],
      "source": [
        "np.random.random_sample(myones.shape)"
      ]
    },
    {
      "cell_type": "code",
      "execution_count": null,
      "id": "334dd9f9-e487-4922-9586-a3233dd42754",
      "metadata": {
        "id": "334dd9f9-e487-4922-9586-a3233dd42754",
        "outputId": "e734cb75-17c9-47fb-b1b0-85ea2d55665b"
      },
      "outputs": [
        {
          "data": {
            "text/plain": [
              "array([2, 0])"
            ]
          },
          "execution_count": 111,
          "metadata": {},
          "output_type": "execute_result"
        }
      ],
      "source": [
        "randints = np.random.randint\n",
        "randints"
      ]
    },
    {
      "cell_type": "code",
      "execution_count": null,
      "id": "18e29f68-38b2-4e8d-8a3c-80cca63d76be",
      "metadata": {
        "id": "18e29f68-38b2-4e8d-8a3c-80cca63d76be",
        "outputId": "d2a560d8-46ee-47ea-93b1-24d27c2ddf2f"
      },
      "outputs": [
        {
          "name": "stderr",
          "output_type": "stream",
          "text": [
            "/tmp/ipykernel_16927/2734284539.py:1: DeprecationWarning: This function is deprecated. Please call randint(1, 6 + 1) instead\n",
            "  np.random.random_integers(1,6,myones.shape)\n"
          ]
        },
        {
          "data": {
            "text/plain": [
              "array([[4, 4, 2, 4],\n",
              "       [6, 3, 3, 6],\n",
              "       [1, 6, 4, 5]])"
            ]
          },
          "execution_count": 112,
          "metadata": {},
          "output_type": "execute_result"
        }
      ],
      "source": [
        "np.random.random_integers(1,6,myones.shape)"
      ]
    },
    {
      "cell_type": "code",
      "execution_count": null,
      "id": "74acee65-7490-4da5-afba-67784c7568f6",
      "metadata": {
        "id": "74acee65-7490-4da5-afba-67784c7568f6",
        "outputId": "a159ef46-1f79-434a-edfd-5481ab693bec"
      },
      "outputs": [
        {
          "data": {
            "text/plain": [
              "[[1, 2], [3, 4], [1, 2], [3, 4]]"
            ]
          },
          "execution_count": 114,
          "metadata": {},
          "output_type": "execute_result"
        }
      ],
      "source": [
        "nestedlist = [[1,2],\n",
        "              [3,4]]\n",
        "nestedlist*2"
      ]
    },
    {
      "cell_type": "code",
      "execution_count": null,
      "id": "56e7a768-67c0-4bde-987b-acf22a210117",
      "metadata": {
        "id": "56e7a768-67c0-4bde-987b-acf22a210117",
        "outputId": "7f515195-c414-4d20-8efe-b2c7d1a07d57"
      },
      "outputs": [
        {
          "data": {
            "text/plain": [
              "array([1, 2, 3])"
            ]
          },
          "execution_count": 115,
          "metadata": {},
          "output_type": "execute_result"
        }
      ],
      "source": [
        "onedimensional = np.array([1,2,3])\n",
        "oneDcopy = onedimensional[:]\n",
        "oneDcopy"
      ]
    },
    {
      "cell_type": "code",
      "execution_count": null,
      "id": "0be9c8e1-e896-4d2d-95a7-00740aab5b05",
      "metadata": {
        "id": "0be9c8e1-e896-4d2d-95a7-00740aab5b05",
        "outputId": "43d5b375-7732-4ffa-d602-2fd273d662bc"
      },
      "outputs": [
        {
          "data": {
            "text/plain": [
              "array([[1, 2, 3],\n",
              "       [4, 5, 6],\n",
              "       [7, 8, 9]])"
            ]
          },
          "execution_count": 116,
          "metadata": {},
          "output_type": "execute_result"
        }
      ],
      "source": [
        "twodimensional = np.array([[1,2,3],[4,5,6],[7,8,9]])\n",
        "twoDcopy = twodimensional[:,:]\n",
        "twoDcopy"
      ]
    },
    {
      "cell_type": "code",
      "execution_count": null,
      "id": "147c8d59-3fcb-4e1b-956b-83e93fb5883b",
      "metadata": {
        "id": "147c8d59-3fcb-4e1b-956b-83e93fb5883b",
        "outputId": "c7a242bb-3b1a-42cf-f472-784dad524deb"
      },
      "outputs": [
        {
          "data": {
            "text/plain": [
              "array([[1, 2, 3],\n",
              "       [4, 5, 6],\n",
              "       [7, 8, 9]])"
            ]
          },
          "execution_count": 117,
          "metadata": {},
          "output_type": "execute_result"
        }
      ],
      "source": [
        "anyDcopy = twodimensional.copy()\n",
        "anyDcopy"
      ]
    },
    {
      "cell_type": "code",
      "execution_count": null,
      "id": "1c65a7a1-b987-46ab-8c7e-cd07c158afc5",
      "metadata": {
        "id": "1c65a7a1-b987-46ab-8c7e-cd07c158afc5",
        "outputId": "55eb9d95-c7f7-47fb-8f7e-5ec87f5bd193"
      },
      "outputs": [
        {
          "data": {
            "text/plain": [
              "array([[[[[1, 1],\n",
              "          [1, 1]],\n",
              "\n",
              "         [[1, 1],\n",
              "          [1, 1]]],\n",
              "\n",
              "\n",
              "        [[[1, 1],\n",
              "          [1, 1]],\n",
              "\n",
              "         [[1, 1],\n",
              "          [1, 1]]]],\n",
              "\n",
              "\n",
              "\n",
              "       [[[[1, 1],\n",
              "          [1, 1]],\n",
              "\n",
              "         [[1, 1],\n",
              "          [1, 1]]],\n",
              "\n",
              "\n",
              "        [[[1, 1],\n",
              "          [1, 1]],\n",
              "\n",
              "         [[1, 1],\n",
              "          [1, 1]]]]], dtype=int8)"
            ]
          },
          "execution_count": 118,
          "metadata": {},
          "output_type": "execute_result"
        }
      ],
      "source": [
        "thefifthdimension = np.ones( (2,2,2,2,2), dtype=np.int8)\n",
        "thefifthdimension"
      ]
    },
    {
      "cell_type": "code",
      "execution_count": null,
      "id": "3e920bb9-8a9a-4030-84ca-a2132ae1a4ea",
      "metadata": {
        "id": "3e920bb9-8a9a-4030-84ca-a2132ae1a4ea",
        "outputId": "3e32eb02-9c55-4c92-d479-2548f0bcf6a2"
      },
      "outputs": [
        {
          "data": {
            "text/plain": [
              "array([[[2, 4, 6],\n",
              "        [2, 2, 1],\n",
              "        [1, 7, 6]],\n",
              "\n",
              "       [[2, 2, 5],\n",
              "        [0, 7, 1],\n",
              "        [2, 6, 8]],\n",
              "\n",
              "       [[0, 5, 1],\n",
              "        [6, 8, 8],\n",
              "        [8, 5, 1]]])"
            ]
          },
          "execution_count": 120,
          "metadata": {},
          "output_type": "execute_result"
        }
      ],
      "source": [
        "randintcube = np.random.randint(0,9,(3,3,3))\n",
        "randintcube"
      ]
    },
    {
      "cell_type": "code",
      "execution_count": null,
      "id": "3520857b-19d9-4591-a4cd-0fd2cc34f8ea",
      "metadata": {
        "id": "3520857b-19d9-4591-a4cd-0fd2cc34f8ea",
        "outputId": "e01f57fd-610d-49e9-859b-f5cef0d3cd6e"
      },
      "outputs": [
        {
          "data": {
            "text/plain": [
              "array([[[-1.82981805,  0.01809017,  1.04756723,  0.78152373],\n",
              "        [ 0.15477715,  0.74589502,  1.41390433,  0.77957715],\n",
              "        [-1.18824739,  1.60307571, -1.09185013,  0.25501848]],\n",
              "\n",
              "       [[-1.07613292,  0.11863311,  1.73586904,  0.2177209 ],\n",
              "        [ 1.22837244,  1.37926625,  0.97919434,  0.40923753],\n",
              "        [-0.34623885, -0.36381963,  1.0344624 ,  0.53166799]]])"
            ]
          },
          "execution_count": 121,
          "metadata": {},
          "output_type": "execute_result"
        }
      ],
      "source": [
        "np.random.randn(2,3,4)"
      ]
    },
    {
      "cell_type": "code",
      "execution_count": null,
      "id": "455dfc29-e275-4443-afb5-6bcc7172f3ed",
      "metadata": {
        "id": "455dfc29-e275-4443-afb5-6bcc7172f3ed",
        "outputId": "5b6ca5dd-3d74-4281-db2f-313428083271"
      },
      "outputs": [
        {
          "name": "stdout",
          "output_type": "stream",
          "text": [
            "Are the arrays equal within the tolerance? True\n"
          ]
        }
      ],
      "source": [
        "import numpy as np\n",
        "\n",
        "# Create two NumPy arrays (you can replace these with your own arrays)\n",
        "array1 = np.array([1.0, 2.0, 3.0])\n",
        "array2 = np.array([1.0000001, 2.0000002, 3.0000003])\n",
        "\n",
        "# Set the tolerance (absolute or relative difference) for the comparison\n",
        "tolerance = 1e-6\n",
        "\n",
        "# Compare the arrays with numpy.allclose()\n",
        "are_equal = np.allclose(array1, array2, rtol=tolerance, atol=tolerance)\n",
        "\n",
        "print(\"Are the arrays equal within the tolerance?\", are_equal)"
      ]
    },
    {
      "cell_type": "code",
      "execution_count": null,
      "id": "49b126e0-afcb-4d69-a629-f136d53f00ad",
      "metadata": {
        "id": "49b126e0-afcb-4d69-a629-f136d53f00ad"
      },
      "outputs": [],
      "source": []
    }
  ],
  "metadata": {
    "kernelspec": {
      "display_name": "Python 3 (ipykernel)",
      "language": "python",
      "name": "python3"
    },
    "language_info": {
      "codemirror_mode": {
        "name": "ipython",
        "version": 3
      },
      "file_extension": ".py",
      "mimetype": "text/x-python",
      "name": "python",
      "nbconvert_exporter": "python",
      "pygments_lexer": "ipython3",
      "version": "3.9.13"
    },
    "colab": {
      "provenance": [],
      "include_colab_link": true
    }
  },
  "nbformat": 4,
  "nbformat_minor": 5
}