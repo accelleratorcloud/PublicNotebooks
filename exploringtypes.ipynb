{
  "nbformat": 4,
  "nbformat_minor": 0,
  "metadata": {
    "colab": {
      "provenance": [],
      "authorship_tag": "ABX9TyO87CB0lA3K9uON9pqSzyFB",
      "include_colab_link": true
    },
    "kernelspec": {
      "name": "python3",
      "display_name": "Python 3"
    },
    "language_info": {
      "name": "python"
    }
  },
  "cells": [
    {
      "cell_type": "markdown",
      "metadata": {
        "id": "view-in-github",
        "colab_type": "text"
      },
      "source": [
        "<a href=\"https://colab.research.google.com/github/accelleratorcloud/PublicNotebooks/blob/main/exploringtypes.ipynb\" target=\"_parent\"><img src=\"https://colab.research.google.com/assets/colab-badge.svg\" alt=\"Open In Colab\"/></a>"
      ]
    },
    {
      "cell_type": "markdown",
      "source": [
        "### **exploring types in python**"
      ],
      "metadata": {
        "id": "fXwskrYdPkaQ"
      }
    },
    {
      "cell_type": "markdown",
      "source": [
        "for starters, let's look at a list. because I'm lazy,  I didn't want to keep typing quotes, so I gave 2 lists of classname variables inside another list called types_to_explore.  "
      ],
      "metadata": {
        "id": "3t90ZZUyTCnH"
      }
    },
    {
      "cell_type": "code",
      "source": [
        "types_to_explore = [\n",
        "    [ bool, int, str, bytes, float],\n",
        "    [ list, tuple, set, dict ]\n",
        "    ]"
      ],
      "metadata": {
        "id": "X1697RcWP_Bt"
      },
      "execution_count": null,
      "outputs": []
    },
    {
      "cell_type": "markdown",
      "source": [
        "next,  I did an import of the essential numpy library. ndarray is the standard for arrays in python.  \n",
        "\n",
        "numpy is \"aliased\" to np.   if 2 libraries have the same name, aliasing can avoid a name conflict.\n",
        "\n",
        "next, I imported ndarray.   arrays are much more efficient than python lists."
      ],
      "metadata": {
        "id": "R8-n7dsrTixd"
      }
    },
    {
      "cell_type": "code",
      "source": [
        "import numpy as np\n",
        "from numpy import ndarray"
      ],
      "metadata": {
        "id": "DY2EEwdaQv98"
      },
      "execution_count": null,
      "outputs": []
    },
    {
      "cell_type": "markdown",
      "source": [],
      "metadata": {
        "id": "L54zrwYBS9l4"
      }
    },
    {
      "cell_type": "markdown",
      "source": [
        "here I iterate through the list of simple types,  and because they are classes, I get the .__name__ string for each class.  \n",
        "\n",
        "then I do the same for complex types."
      ],
      "metadata": {
        "id": "0zxbuajZUb6l"
      }
    },
    {
      "cell_type": "code",
      "source": [
        "simpletypes = types_to_explore[0]\n",
        "for t in simpletypes:\n",
        "  print(t.__name__)"
      ],
      "metadata": {
        "id": "ru_vcK7-RDLV",
        "outputId": "6dd2727f-bd72-4c5f-97f4-39f3cf7b8eef",
        "colab": {
          "base_uri": "https://localhost:8080/"
        }
      },
      "execution_count": null,
      "outputs": [
        {
          "output_type": "stream",
          "name": "stdout",
          "text": [
            "bool\n",
            "int\n",
            "str\n",
            "bytes\n",
            "float\n"
          ]
        }
      ]
    },
    {
      "cell_type": "code",
      "source": [
        "complextypes = types_to_explore[1]\n",
        "for t in complextypes:\n",
        "  print(t.__name__)"
      ],
      "metadata": {
        "id": "-JzKylrkRXxe",
        "outputId": "3f7121e1-59a6-46a2-d3c7-0bbe0b1db489",
        "colab": {
          "base_uri": "https://localhost:8080/"
        }
      },
      "execution_count": null,
      "outputs": [
        {
          "output_type": "stream",
          "name": "stdout",
          "text": [
            "list\n",
            "tuple\n",
            "set\n",
            "dict\n"
          ]
        }
      ]
    },
    {
      "cell_type": "markdown",
      "source": [],
      "metadata": {
        "id": "3Y_lcT8-S1cG"
      }
    },
    {
      "cell_type": "markdown",
      "source": [
        "python's boolean value stores a 0 or 1,  but displays as False or True."
      ],
      "metadata": {
        "id": "LH7Y_SmoUydr"
      }
    },
    {
      "cell_type": "code",
      "source": [
        "bool(0), bool(1)"
      ],
      "metadata": {
        "id": "cGVNr6p9Rq9v",
        "colab": {
          "base_uri": "https://localhost:8080/"
        },
        "outputId": "61c172f1-6853-4d60-fa55-b7ff643ebceb"
      },
      "execution_count": 6,
      "outputs": [
        {
          "output_type": "execute_result",
          "data": {
            "text/plain": [
              "(False, True)"
            ]
          },
          "metadata": {},
          "execution_count": 6
        }
      ]
    },
    {
      "cell_type": "markdown",
      "source": [
        "python's int data type allows insanely large integers.  "
      ],
      "metadata": {
        "id": "x6nn0bdbVkRN"
      }
    },
    {
      "cell_type": "code",
      "source": [
        "x = -987654321987654321987654321987654321987654321\n",
        "x"
      ],
      "metadata": {
        "id": "CnmNDcBYVFkV",
        "outputId": "9d7347d9-6aea-4e4e-9365-c513f7fa8ecb",
        "colab": {
          "base_uri": "https://localhost:8080/"
        }
      },
      "execution_count": 7,
      "outputs": [
        {
          "output_type": "execute_result",
          "data": {
            "text/plain": [
              "-987654321987654321987654321987654321987654321"
            ]
          },
          "metadata": {},
          "execution_count": 7
        }
      ]
    },
    {
      "cell_type": "markdown",
      "source": [
        "a float can be entered directly,  constructed from a string, or constructed from another type of variable.  \n",
        "\n",
        "commas signify a tuple -  here a tuple of 3 numbers is created as the return value."
      ],
      "metadata": {
        "id": "ePU0rz6xWKQQ"
      }
    },
    {
      "cell_type": "code",
      "source": [
        "float1 = 3.14\n",
        "float2 = float(\"3.14\")\n",
        "float3 = float(x)\n",
        "float1, float2, float3"
      ],
      "metadata": {
        "id": "Bj21xGUYWBFd",
        "outputId": "f653b37e-c6d6-4c55-d9ca-9a413834c08e",
        "colab": {
          "base_uri": "https://localhost:8080/"
        }
      },
      "execution_count": 10,
      "outputs": [
        {
          "output_type": "execute_result",
          "data": {
            "text/plain": [
              "(3.14, 3.14, -9.876543219876543e+44)"
            ]
          },
          "metadata": {},
          "execution_count": 10
        }
      ]
    },
    {
      "cell_type": "code",
      "source": [],
      "metadata": {
        "id": "d_34_ANOWfTq"
      },
      "execution_count": null,
      "outputs": []
    }
  ]
}