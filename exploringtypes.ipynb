{
  "nbformat": 4,
  "nbformat_minor": 0,
  "metadata": {
    "colab": {
      "provenance": [],
      "authorship_tag": "ABX9TyP2Fhjfc7BWZBsEmts0V25O",
      "include_colab_link": true
    },
    "kernelspec": {
      "name": "python3",
      "display_name": "Python 3"
    },
    "language_info": {
      "name": "python"
    }
  },
  "cells": [
    {
      "cell_type": "markdown",
      "metadata": {
        "id": "view-in-github",
        "colab_type": "text"
      },
      "source": [
        "<a href=\"https://colab.research.google.com/github/accelleratorcloud/PublicNotebooks/blob/main/exploringtypes.ipynb\" target=\"_parent\"><img src=\"https://colab.research.google.com/assets/colab-badge.svg\" alt=\"Open In Colab\"/></a>"
      ]
    },
    {
      "cell_type": "markdown",
      "source": [
        "### **exploring types in python**"
      ],
      "metadata": {
        "id": "fXwskrYdPkaQ"
      }
    },
    {
      "cell_type": "markdown",
      "source": [
        "for starters, let's look at a list. because I'm lazy,  I didn't want to keep typing quotes, so I gave 2 lists of classname variables inside another list called types_to_explore.  "
      ],
      "metadata": {
        "id": "3t90ZZUyTCnH"
      }
    },
    {
      "cell_type": "code",
      "source": [
        "types_to_explore = [\n",
        "    [ bool, int, str, bytes, float],\n",
        "    [ list, tuple, set, dict ]\n",
        "    ]"
      ],
      "metadata": {
        "id": "X1697RcWP_Bt"
      },
      "execution_count": 37,
      "outputs": []
    },
    {
      "cell_type": "markdown",
      "source": [
        "here I iterate through the list of simple types,  and because they are classes, I get the .__name__ string for each class.  \n",
        "\n",
        "then I do the same for complex types."
      ],
      "metadata": {
        "id": "0zxbuajZUb6l"
      }
    },
    {
      "cell_type": "code",
      "source": [
        "simpletypes = types_to_explore[0]\n",
        "for t in simpletypes:\n",
        "  print(t.__name__)"
      ],
      "metadata": {
        "id": "ru_vcK7-RDLV",
        "outputId": "2b04a408-7b29-4167-e471-a7648d331885",
        "colab": {
          "base_uri": "https://localhost:8080/"
        }
      },
      "execution_count": 39,
      "outputs": [
        {
          "output_type": "stream",
          "name": "stdout",
          "text": [
            "bool\n",
            "int\n",
            "str\n",
            "bytes\n",
            "float\n"
          ]
        }
      ]
    },
    {
      "cell_type": "code",
      "source": [
        "complextypes = types_to_explore[1]\n",
        "for t in complextypes:\n",
        "  print(t.__name__)"
      ],
      "metadata": {
        "id": "-JzKylrkRXxe",
        "outputId": "e12931c7-2bee-4c6a-f5fe-dc886568a2ab",
        "colab": {
          "base_uri": "https://localhost:8080/"
        }
      },
      "execution_count": 40,
      "outputs": [
        {
          "output_type": "stream",
          "name": "stdout",
          "text": [
            "list\n",
            "tuple\n",
            "set\n",
            "dict\n"
          ]
        }
      ]
    },
    {
      "cell_type": "markdown",
      "source": [
        "python's boolean value stores a 0 or 1,  but displays as False or True."
      ],
      "metadata": {
        "id": "LH7Y_SmoUydr"
      }
    },
    {
      "cell_type": "code",
      "source": [
        "bool(0), bool(1)"
      ],
      "metadata": {
        "id": "cGVNr6p9Rq9v",
        "colab": {
          "base_uri": "https://localhost:8080/"
        },
        "outputId": "102fdd9c-115d-495a-f67a-b3b407b32dbb"
      },
      "execution_count": 41,
      "outputs": [
        {
          "output_type": "execute_result",
          "data": {
            "text/plain": [
              "(False, True)"
            ]
          },
          "metadata": {},
          "execution_count": 41
        }
      ]
    },
    {
      "cell_type": "markdown",
      "source": [
        "python's int data type allows insanely large integers.  "
      ],
      "metadata": {
        "id": "x6nn0bdbVkRN"
      }
    },
    {
      "cell_type": "code",
      "source": [
        "x = -987654321987654321987654321987654321987654321\n",
        "x"
      ],
      "metadata": {
        "colab": {
          "base_uri": "https://localhost:8080/"
        },
        "id": "CnmNDcBYVFkV",
        "outputId": "26a553cf-746a-4fc4-ddc0-61207b17e025"
      },
      "execution_count": 42,
      "outputs": [
        {
          "output_type": "execute_result",
          "data": {
            "text/plain": [
              "-987654321987654321987654321987654321987654321"
            ]
          },
          "metadata": {},
          "execution_count": 42
        }
      ]
    },
    {
      "cell_type": "markdown",
      "source": [
        "a float can be entered directly,  constructed from a string, or constructed from another type of variable.  \n",
        "\n",
        "commas signify a tuple -  here a tuple of 3 numbers is created as the return value."
      ],
      "metadata": {
        "id": "ePU0rz6xWKQQ"
      }
    },
    {
      "cell_type": "code",
      "source": [
        "float1 = 3.14\n",
        "float2 = float(\"3.14\")\n",
        "float3 = float(x)\n",
        "float1, float2, float3"
      ],
      "metadata": {
        "colab": {
          "base_uri": "https://localhost:8080/"
        },
        "id": "Bj21xGUYWBFd",
        "outputId": "ec60a630-3567-4a6c-cac4-f8401bfb917c"
      },
      "execution_count": 43,
      "outputs": [
        {
          "output_type": "execute_result",
          "data": {
            "text/plain": [
              "(3.14, 3.14, -9.876543219876543e+44)"
            ]
          },
          "metadata": {},
          "execution_count": 43
        }
      ]
    },
    {
      "cell_type": "markdown",
      "source": [
        "strings can use single or double quotes.  this makes it easier to copy and paste in text that has the other type of quote in it.  \n"
      ],
      "metadata": {
        "id": "exKiRTcHXl4c"
      }
    },
    {
      "cell_type": "code",
      "source": [
        "name = 'Bob'\n",
        "\n",
        "greeting = \"Hello!\"             # a single pair limits to a single line.\n",
        "greeting = f\"Hello {name}\"      # an \"f-string\" can stuff variables inside.\n",
        "\n",
        "\n",
        "# a multi-line string allows storing mail merge letters or HTML files in a string.\n",
        "document = f\"\"\"\n",
        "  Dear {name},\n",
        "  this is to inform you that this document has many lines.\n",
        "  Sincerely,\n",
        "\"\"\""
      ],
      "metadata": {
        "id": "d_34_ANOWfTq"
      },
      "execution_count": 44,
      "outputs": []
    },
    {
      "cell_type": "markdown",
      "source": [
        "the multi-line document embeds newline characters in the string"
      ],
      "metadata": {
        "id": "NjKHyQFJZHj6"
      }
    },
    {
      "cell_type": "code",
      "source": [
        "document"
      ],
      "metadata": {
        "colab": {
          "base_uri": "https://localhost:8080/",
          "height": 35
        },
        "id": "mS1_PdoTYyoR",
        "outputId": "0b9b625d-ed8f-4dc2-c25a-e04862a1e466"
      },
      "execution_count": 45,
      "outputs": [
        {
          "output_type": "execute_result",
          "data": {
            "text/plain": [
              "'\\n  Dear Bob,\\n  this is to inform you that this document has many lines.\\n  Sincerely, \\n'"
            ],
            "application/vnd.google.colaboratory.intrinsic+json": {
              "type": "string"
            }
          },
          "metadata": {},
          "execution_count": 45
        }
      ]
    },
    {
      "cell_type": "markdown",
      "source": [
        "printing it displays as expected"
      ],
      "metadata": {
        "id": "Ty4nK2ozZRii"
      }
    },
    {
      "cell_type": "code",
      "source": [
        "print(document)"
      ],
      "metadata": {
        "colab": {
          "base_uri": "https://localhost:8080/"
        },
        "id": "4v3TZvJIZE7L",
        "outputId": "b22470eb-1b30-46d2-bb5f-29148e14603d"
      },
      "execution_count": 46,
      "outputs": [
        {
          "output_type": "stream",
          "name": "stdout",
          "text": [
            "\n",
            "  Dear Bob,\n",
            "  this is to inform you that this document has many lines.\n",
            "  Sincerely, \n",
            "\n"
          ]
        }
      ]
    },
    {
      "cell_type": "markdown",
      "source": [
        "the str() constructor converts other types to a string."
      ],
      "metadata": {
        "id": "3vO0YSKEZpFg"
      }
    },
    {
      "cell_type": "code",
      "source": [
        "str(True), str(3.14), str(7), str([1,2,3])"
      ],
      "metadata": {
        "colab": {
          "base_uri": "https://localhost:8080/"
        },
        "id": "o2VbMMfGZVUj",
        "outputId": "339bccc1-7f58-45e8-db3b-242aeca2720d"
      },
      "execution_count": 47,
      "outputs": [
        {
          "output_type": "execute_result",
          "data": {
            "text/plain": [
              "('True', '3.14', '7', '[1, 2, 3]')"
            ]
          },
          "metadata": {},
          "execution_count": 47
        }
      ]
    },
    {
      "cell_type": "markdown",
      "source": [
        "while indexable, tuples are immutable and can't be modified after they are created."
      ],
      "metadata": {
        "id": "zfMavDh1aN55"
      }
    },
    {
      "cell_type": "code",
      "source": [
        "strtests = str(True), str(3.14), str(7), str([1,2,3])\n",
        "\n",
        "for test in strtests:\n",
        "  print(test)"
      ],
      "metadata": {
        "colab": {
          "base_uri": "https://localhost:8080/"
        },
        "id": "moHTulTJZ47J",
        "outputId": "15c1abae-a8ba-458b-bdac-ca764b8ff9be"
      },
      "execution_count": 48,
      "outputs": [
        {
          "output_type": "stream",
          "name": "stdout",
          "text": [
            "True\n",
            "3.14\n",
            "7\n",
            "[1, 2, 3]\n"
          ]
        }
      ]
    },
    {
      "cell_type": "markdown",
      "source": [
        "the elements of a tuple can be READ by index ( -1 is a convenient way of saying, last element )"
      ],
      "metadata": {
        "id": "CegH9_YuaztN"
      }
    },
    {
      "cell_type": "code",
      "source": [
        "strtests[0], strtests[-1]"
      ],
      "metadata": {
        "colab": {
          "base_uri": "https://localhost:8080/"
        },
        "id": "_Oy4Z2WvauZk",
        "outputId": "b4c0622a-e651-46f5-da94-ea59da8a2c0c"
      },
      "execution_count": 49,
      "outputs": [
        {
          "output_type": "execute_result",
          "data": {
            "text/plain": [
              "('True', '[1, 2, 3]')"
            ]
          },
          "metadata": {},
          "execution_count": 49
        }
      ]
    },
    {
      "cell_type": "markdown",
      "source": [
        "tuples can't be modified by index though:"
      ],
      "metadata": {
        "id": "V0GrgWC3bEhT"
      }
    },
    {
      "cell_type": "code",
      "source": [
        "strtests[0] = \"help\""
      ],
      "metadata": {
        "colab": {
          "base_uri": "https://localhost:8080/",
          "height": 165
        },
        "id": "7sonRjL6ayB5",
        "outputId": "0df3b3d5-1feb-4064-fdf8-f59eab814218"
      },
      "execution_count": 50,
      "outputs": [
        {
          "output_type": "error",
          "ename": "TypeError",
          "evalue": "ignored",
          "traceback": [
            "\u001b[0;31m---------------------------------------------------------------------------\u001b[0m",
            "\u001b[0;31mTypeError\u001b[0m                                 Traceback (most recent call last)",
            "\u001b[0;32m<ipython-input-50-56827e5227ec>\u001b[0m in \u001b[0;36m<cell line: 1>\u001b[0;34m()\u001b[0m\n\u001b[0;32m----> 1\u001b[0;31m \u001b[0mstrtests\u001b[0m\u001b[0;34m[\u001b[0m\u001b[0;36m0\u001b[0m\u001b[0;34m]\u001b[0m \u001b[0;34m=\u001b[0m \u001b[0;34m\"help\"\u001b[0m\u001b[0;34m\u001b[0m\u001b[0;34m\u001b[0m\u001b[0m\n\u001b[0m",
            "\u001b[0;31mTypeError\u001b[0m: 'tuple' object does not support item assignment"
          ]
        }
      ]
    },
    {
      "cell_type": "markdown",
      "source": [
        "lists can be modified by index."
      ],
      "metadata": {
        "id": "HXh5V_flevA2"
      }
    },
    {
      "cell_type": "code",
      "source": [
        "listtests = [ str(True), str(3.14), str(7), str([1,2,3]) ]\n",
        "listtests"
      ],
      "metadata": {
        "id": "Ps5CFCKHbQ0V"
      },
      "execution_count": null,
      "outputs": []
    },
    {
      "cell_type": "code",
      "source": [
        "listtests[0] = \"squanch!\"\n",
        "listtests"
      ],
      "metadata": {
        "id": "7vZGSR9SfAoD"
      },
      "execution_count": null,
      "outputs": []
    },
    {
      "cell_type": "markdown",
      "source": [
        "lists can hold heterogeous types."
      ],
      "metadata": {
        "id": "ywJAoc6rf1eo"
      }
    },
    {
      "cell_type": "code",
      "source": [
        "crazylist = [\n",
        "    listtests,\n",
        "    [1,2,3],\n",
        "    \"a string\",\n",
        "    (\"a\",\"tuple\",\"of\",\"strings\")\n",
        "\n",
        "]"
      ],
      "metadata": {
        "id": "7OYYcYh_fN6_"
      },
      "execution_count": null,
      "outputs": []
    },
    {
      "cell_type": "code",
      "source": [
        "for item in crazylist:\n",
        "  print(type(item))"
      ],
      "metadata": {
        "id": "kFCUhGVZgQYP"
      },
      "execution_count": null,
      "outputs": []
    },
    {
      "cell_type": "code",
      "source": [
        "for item in crazylist[-1]:\n",
        "  print(item)"
      ],
      "metadata": {
        "id": "xc7XWhE3gmt2"
      },
      "execution_count": null,
      "outputs": []
    },
    {
      "cell_type": "markdown",
      "source": [
        "each of the constructors above are all of the \"type\" type,  while their instances are of the various types.\n",
        "\n",
        "when we do dir() on INSTANCES of the set type,  they have no __name__ property.  the class itself does have a name property.  "
      ],
      "metadata": {
        "id": "2kXX1QgWyfS_"
      }
    },
    {
      "cell_type": "code",
      "source": [
        "for t in complextypes:\n",
        "  print(t.__name__, type(t))"
      ],
      "metadata": {
        "id": "6CojFfGVx8sT"
      },
      "execution_count": null,
      "outputs": []
    },
    {
      "cell_type": "markdown",
      "source": [
        "dir()  gives a LIST of all methods for a class.  a lot of the methods preceded by __  \"dunder methods\"  correspond to operators like + - and == .\n",
        "\n",
        "we will pass each dir to the set constructor to make them a set instead."
      ],
      "metadata": {
        "id": "KYrvDrBiTxs2"
      }
    },
    {
      "cell_type": "code",
      "source": [
        "boolmethods = set(dir(bool))\n",
        "intmethods  = set(dir(int))\n",
        "floatmethods = set(dir(float))"
      ],
      "metadata": {
        "id": "FBAYbEPlTyeV"
      },
      "execution_count": null,
      "outputs": []
    },
    {
      "cell_type": "code",
      "source": [
        "intersect1  = boolmethods.intersection(intmethods)   #  return set intersection\n",
        "\n",
        "commonmethods =  boolmethods & intmethods & floatmethods   #  &  is the bitwise and operator,  &&  is the logical and operator.   & for sets means intersection.\n",
        "commonmethods"
      ],
      "metadata": {
        "id": "4tSMNdiRUIEY"
      },
      "execution_count": null,
      "outputs": []
    },
    {
      "cell_type": "code",
      "source": [
        "True.as_integer_ratio()    # why bool has this property I have no idea."
      ],
      "metadata": {
        "id": "zIKoCnz6WCSQ"
      },
      "execution_count": null,
      "outputs": []
    },
    {
      "cell_type": "code",
      "source": [
        "boolmethods - commonmethods"
      ],
      "metadata": {
        "id": "ric4tWBcWNq1"
      },
      "execution_count": null,
      "outputs": []
    },
    {
      "cell_type": "code",
      "source": [
        "floatmethods - commonmethods"
      ],
      "metadata": {
        "id": "tTfn_4SRWT8e"
      },
      "execution_count": null,
      "outputs": []
    },
    {
      "cell_type": "code",
      "source": [
        "dir(type)"
      ],
      "metadata": {
        "id": "f3f6kdclxC68"
      },
      "execution_count": null,
      "outputs": []
    },
    {
      "cell_type": "code",
      "source": [
        "type.__module__"
      ],
      "metadata": {
        "id": "6Zsn8zEfxewF"
      },
      "execution_count": null,
      "outputs": []
    },
    {
      "cell_type": "markdown",
      "source": [
        "While the Python standard library has it's own array implementation,  NumPy  (  https://numpy.org ) is the De Facto array library for Python.  \n",
        "\n",
        "NumPy is an open source project that enables numerical computing with Python. It was created in 2005 building on the early work of the Numeric and Numarray libraries. NumPy will always be 100% open source software and free for all to use. It is released under the liberal terms of the modified BSD license."
      ],
      "metadata": {
        "id": "8Eh9xJn8viqi"
      }
    },
    {
      "cell_type": "markdown",
      "source": [
        "[Numpy is the go to package for arrays in Python.](https://github.com/numpy/numpy)\n",
        "\n",
        "![image.png](data:image/png;base64,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)"
      ],
      "metadata": {
        "id": "Rf8dccWdhbPk"
      }
    },
    {
      "cell_type": "markdown",
      "source": [
        "numpy is \"aliased\" to np.   if 2 libraries have the same name, aliasing can avoid a name conflict.\n",
        "\n",
        "next, I imported ndarray.   arrays are much more efficient than python lists."
      ],
      "metadata": {
        "id": "R8-n7dsrTixd"
      }
    },
    {
      "cell_type": "code",
      "source": [
        "import numpy as np\n",
        "from numpy import ndarray"
      ],
      "metadata": {
        "id": "DY2EEwdaQv98"
      },
      "execution_count": 2,
      "outputs": []
    },
    {
      "cell_type": "markdown",
      "source": [
        "a Python List ( or list of lists ) is used to initialize a numpy array."
      ],
      "metadata": {
        "id": "EJlmjcPRxHd3"
      }
    },
    {
      "cell_type": "code",
      "source": [
        "vector = np.array([3, 4, 5])\n",
        "vector"
      ],
      "metadata": {
        "colab": {
          "base_uri": "https://localhost:8080/"
        },
        "id": "w8H1yLJ-g-k8",
        "outputId": "387f51e7-ec34-4954-9bb9-8f6b49ab5115"
      },
      "execution_count": 3,
      "outputs": [
        {
          "output_type": "execute_result",
          "data": {
            "text/plain": [
              "array([3, 4, 5])"
            ]
          },
          "metadata": {},
          "execution_count": 3
        }
      ]
    },
    {
      "cell_type": "code",
      "source": [
        "type(vector)"
      ],
      "metadata": {
        "colab": {
          "base_uri": "https://localhost:8080/"
        },
        "id": "UiXszEBuiYxr",
        "outputId": "99d10e4d-da69-4890-d7da-b3c9766cb3ff"
      },
      "execution_count": 4,
      "outputs": [
        {
          "output_type": "execute_result",
          "data": {
            "text/plain": [
              "numpy.ndarray"
            ]
          },
          "metadata": {},
          "execution_count": 4
        }
      ]
    },
    {
      "cell_type": "markdown",
      "source": [
        "a Numpy ndarray can be added to a list like any other object."
      ],
      "metadata": {
        "id": "eBRmZ1hCyJoH"
      }
    },
    {
      "cell_type": "code",
      "source": [
        "crazylist[0] = vector\n",
        "crazylist"
      ],
      "metadata": {
        "colab": {
          "base_uri": "https://localhost:8080/",
          "height": 183
        },
        "id": "0mxdAylgjI6G",
        "outputId": "6f47057c-e060-4495-9c2b-141f63bef78e"
      },
      "execution_count": 5,
      "outputs": [
        {
          "output_type": "error",
          "ename": "NameError",
          "evalue": "ignored",
          "traceback": [
            "\u001b[0;31m---------------------------------------------------------------------------\u001b[0m",
            "\u001b[0;31mNameError\u001b[0m                                 Traceback (most recent call last)",
            "\u001b[0;32m<ipython-input-5-c1e45afe4389>\u001b[0m in \u001b[0;36m<cell line: 1>\u001b[0;34m()\u001b[0m\n\u001b[0;32m----> 1\u001b[0;31m \u001b[0mcrazylist\u001b[0m\u001b[0;34m[\u001b[0m\u001b[0;36m0\u001b[0m\u001b[0;34m]\u001b[0m \u001b[0;34m=\u001b[0m \u001b[0mvector\u001b[0m\u001b[0;34m\u001b[0m\u001b[0;34m\u001b[0m\u001b[0m\n\u001b[0m\u001b[1;32m      2\u001b[0m \u001b[0mcrazylist\u001b[0m\u001b[0;34m\u001b[0m\u001b[0;34m\u001b[0m\u001b[0m\n",
            "\u001b[0;31mNameError\u001b[0m: name 'crazylist' is not defined"
          ]
        }
      ]
    },
    {
      "cell_type": "markdown",
      "source": [
        "since we are back talkign about crazylist again,  inside of complex data structures it's important to keep in mind the nested datatype.   "
      ],
      "metadata": {
        "id": "1ksRRWjeyeWU"
      }
    },
    {
      "cell_type": "code",
      "source": [
        "crazylist[1][0] = 9        # will succeed since it's a list\n",
        "crazylist[3][0] = \"bang\"   # will fail since it's a tuple"
      ],
      "metadata": {
        "id": "WQJTNAbyjwbf"
      },
      "execution_count": null,
      "outputs": []
    },
    {
      "cell_type": "markdown",
      "source": [],
      "metadata": {
        "id": "_WlC_ENLvdx6"
      }
    },
    {
      "cell_type": "code",
      "source": [
        "listoflists = [\n",
        "    [0,1,2],\n",
        "    [3,4,5],\n",
        "    [6,7,8]\n",
        "]\n",
        "threebythreearray = np.array(listoflists, dtype=np.int64)\n",
        "threebythreearray"
      ],
      "metadata": {
        "colab": {
          "base_uri": "https://localhost:8080/"
        },
        "id": "F0ZrNmcjHeC1",
        "outputId": "724847d7-3d76-4a9b-a480-68d321a9f673"
      },
      "execution_count": 6,
      "outputs": [
        {
          "output_type": "execute_result",
          "data": {
            "text/plain": [
              "array([[0, 1, 2],\n",
              "       [3, 4, 5],\n",
              "       [6, 7, 8]])"
            ]
          },
          "metadata": {},
          "execution_count": 6
        }
      ]
    },
    {
      "cell_type": "code",
      "source": [
        "threebythreearray.ndim    # the array has 2 dimensions or axes"
      ],
      "metadata": {
        "colab": {
          "base_uri": "https://localhost:8080/"
        },
        "id": "3FiMjXHMznIs",
        "outputId": "dbf75759-9696-4433-e61d-f314d6c0caec"
      },
      "execution_count": 8,
      "outputs": [
        {
          "output_type": "execute_result",
          "data": {
            "text/plain": [
              "2"
            ]
          },
          "metadata": {},
          "execution_count": 8
        }
      ]
    },
    {
      "cell_type": "markdown",
      "source": [
        "Numpy arrays have a shape - the number of items along each axis.  we see there are 3 rows ( axis 0 )  and 3 columns ( axis 1).   the number of axes is the same as ndim"
      ],
      "metadata": {
        "id": "7O77JvGlz5t0"
      }
    },
    {
      "cell_type": "code",
      "source": [
        "threebythreearray.shape"
      ],
      "metadata": {
        "colab": {
          "base_uri": "https://localhost:8080/"
        },
        "id": "ErOjv_Xnzzt-",
        "outputId": "0f106c58-edf9-465a-c19c-e29b4e6853d4"
      },
      "execution_count": 10,
      "outputs": [
        {
          "output_type": "execute_result",
          "data": {
            "text/plain": [
              "(3, 3)"
            ]
          },
          "metadata": {},
          "execution_count": 10
        }
      ]
    },
    {
      "cell_type": "markdown",
      "source": [
        "NumPy introduces an important technique for accessing data:  array rows and columns can be accessed with a tuple, with a slice element for each axis.   "
      ],
      "metadata": {
        "id": "J-Hp0SDYzDdo"
      }
    },
    {
      "cell_type": "code",
      "source": [
        "threebythreearray[:,0]   #  the first axis says return all ( : symbol )  for the second axis, return the first element.   so first Colummn for each  Row."
      ],
      "metadata": {
        "colab": {
          "base_uri": "https://localhost:8080/"
        },
        "id": "dmY7SrsJLJzd",
        "outputId": "15263cb9-85b6-4450-81ec-194f94082d45"
      },
      "execution_count": 12,
      "outputs": [
        {
          "output_type": "execute_result",
          "data": {
            "text/plain": [
              "array([0, 3, 6])"
            ]
          },
          "metadata": {},
          "execution_count": 12
        }
      ]
    },
    {
      "cell_type": "code",
      "source": [
        "import numpy as np           # it's okay to reimport the library and makes it convenient for running bits of code independently\n",
        "\n",
        "# Create three 3x3 arrays array1 is 1-9, array2 is 11-19, array3 is 21-29\n",
        "array1 = np.array([[1, 2, 3], [4, 5, 6], [7, 8, 9]])\n",
        "array2 = np.array([[11, 12, 13], [14, 15, 16], [17, 18, 19]])\n",
        "array3 = np.array([[21, 22, 23], [24, 25, 26], [27, 28, 29]])\n",
        "\n",
        "# Stack the arrays into a 3x3x3 array along the new axis (axis=0)\n",
        "result_array = np.stack((array1, array2, array3), axis=0)\n",
        "\n",
        "print(result_array)"
      ],
      "metadata": {
        "id": "9erCG4Xa5IzO",
        "outputId": "85815281-651a-4388-890e-bf348e8dc52f",
        "colab": {
          "base_uri": "https://localhost:8080/"
        }
      },
      "execution_count": 14,
      "outputs": [
        {
          "output_type": "stream",
          "name": "stdout",
          "text": [
            "[[[ 1  2  3]\n",
            "  [ 4  5  6]\n",
            "  [ 7  8  9]]\n",
            "\n",
            " [[11 12 13]\n",
            "  [14 15 16]\n",
            "  [17 18 19]]\n",
            "\n",
            " [[21 22 23]\n",
            "  [24 25 26]\n",
            "  [27 28 29]]]\n"
          ]
        }
      ]
    },
    {
      "cell_type": "code",
      "source": [
        "get_array1 = result_array[0,:,:]    # get all rows and columns from layer 0\n",
        "get_array1"
      ],
      "metadata": {
        "id": "yKx5g3Fe5uYs",
        "outputId": "bbfaf7a4-364b-4f3d-9f83-298ebb58642a",
        "colab": {
          "base_uri": "https://localhost:8080/"
        }
      },
      "execution_count": 17,
      "outputs": [
        {
          "output_type": "execute_result",
          "data": {
            "text/plain": [
              "array([[1, 2, 3],\n",
              "       [4, 5, 6],\n",
              "       [7, 8, 9]])"
            ]
          },
          "metadata": {},
          "execution_count": 17
        }
      ]
    },
    {
      "cell_type": "code",
      "source": [
        "low_numbers = result_array[:,0,:]\n",
        "low_numbers"
      ],
      "metadata": {
        "id": "stbLBUZy6-nj",
        "outputId": "c048eeee-9936-423f-eb32-c28c7a25b904",
        "colab": {
          "base_uri": "https://localhost:8080/"
        }
      },
      "execution_count": 18,
      "outputs": [
        {
          "output_type": "execute_result",
          "data": {
            "text/plain": [
              "array([[ 1,  2,  3],\n",
              "       [11, 12, 13],\n",
              "       [21, 22, 23]])"
            ]
          },
          "metadata": {},
          "execution_count": 18
        }
      ]
    },
    {
      "cell_type": "markdown",
      "source": [
        "the popular Pandas Library is built on top of NumPy"
      ],
      "metadata": {
        "id": "aA-3HrJp09Ic"
      }
    },
    {
      "cell_type": "code",
      "source": [
        "import pandas as pd\n",
        "from io import StringIO\n",
        "\n",
        "# Sample CSV data as a string\n",
        "csv_data = \"\"\"Name,Age,Grade\n",
        "John,20,85\n",
        "Alice,19,92\n",
        "Bob,21,78\n",
        "Emma,20,88\"\"\"\n",
        "\n",
        "# Convert the string to a StringIO object\n",
        "string_io = StringIO(csv_data)\n",
        "\n",
        "# Read CSV data from the StringIO object using pd.read_csv()\n",
        "df = pd.read_csv(string_io)\n",
        "\n",
        "# Print the DataFrame\n",
        "print(df)"
      ],
      "metadata": {
        "id": "PvcaogujZEc8"
      },
      "execution_count": null,
      "outputs": []
    },
    {
      "cell_type": "markdown",
      "source": [
        "the SymPy library allows solving equasions symbolically."
      ],
      "metadata": {
        "id": "4yqaQVgK1EE6"
      }
    },
    {
      "cell_type": "code",
      "source": [
        "from sympy import symbols, Eq, solve\n",
        "\n",
        "x, y = symbols('x y')\n",
        "\n",
        "eq1 = Eq(2*x + y, 5)\n",
        "eq2 = Eq(x - 3*y, 12)\n",
        "\n",
        "solutions = solve((eq1, eq2), (x, y))\n",
        "\n",
        "x_value = solutions[x]\n",
        "y_value = solutions[y]\n",
        "\n",
        "print(\"x =\", x_value)\n",
        "print(\"y =\", y_value)"
      ],
      "metadata": {
        "colab": {
          "base_uri": "https://localhost:8080/"
        },
        "id": "0P-6h_1WZvoq",
        "outputId": "0206c078-066e-4d28-fdf5-37328b100189"
      },
      "execution_count": 1,
      "outputs": [
        {
          "output_type": "stream",
          "name": "stdout",
          "text": [
            "x = 27/7\n",
            "y = -19/7\n"
          ]
        }
      ]
    },
    {
      "cell_type": "code",
      "source": [],
      "metadata": {
        "id": "Vjrgr1WJVRVC"
      },
      "execution_count": null,
      "outputs": []
    }
  ]
}