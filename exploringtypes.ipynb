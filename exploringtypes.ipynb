{
  "nbformat": 4,
  "nbformat_minor": 0,
  "metadata": {
    "colab": {
      "provenance": [],
      "authorship_tag": "ABX9TyM3S5n/JmuXDUBGIK+OSRf+",
      "include_colab_link": true
    },
    "kernelspec": {
      "name": "python3",
      "display_name": "Python 3"
    },
    "language_info": {
      "name": "python"
    }
  },
  "cells": [
    {
      "cell_type": "markdown",
      "metadata": {
        "id": "view-in-github",
        "colab_type": "text"
      },
      "source": [
        "<a href=\"https://colab.research.google.com/github/accelleratorcloud/PublicNotebooks/blob/main/exploringtypes.ipynb\" target=\"_parent\"><img src=\"https://colab.research.google.com/assets/colab-badge.svg\" alt=\"Open In Colab\"/></a>"
      ]
    },
    {
      "cell_type": "markdown",
      "source": [
        "### **exploring types in python**"
      ],
      "metadata": {
        "id": "fXwskrYdPkaQ"
      }
    },
    {
      "cell_type": "code",
      "source": [
        "types_to_explore = [\n",
        "    [ bool, int, str, bytes, float],\n",
        "    [ list, tuple, set, dict ]\n",
        "    ]"
      ],
      "metadata": {
        "id": "X1697RcWP_Bt"
      },
      "execution_count": null,
      "outputs": []
    },
    {
      "cell_type": "code",
      "source": [
        "import numpy as np\n",
        "from numpy import ndarray"
      ],
      "metadata": {
        "id": "DY2EEwdaQv98"
      },
      "execution_count": null,
      "outputs": []
    },
    {
      "cell_type": "code",
      "source": [
        "simpletypes = types_to_explore[0]\n",
        "for t in simpletypes:\n",
        "  print(t.__name__)"
      ],
      "metadata": {
        "id": "ru_vcK7-RDLV",
        "outputId": "6dd2727f-bd72-4c5f-97f4-39f3cf7b8eef",
        "colab": {
          "base_uri": "https://localhost:8080/"
        }
      },
      "execution_count": null,
      "outputs": [
        {
          "output_type": "stream",
          "name": "stdout",
          "text": [
            "bool\n",
            "int\n",
            "str\n",
            "bytes\n",
            "float\n"
          ]
        }
      ]
    },
    {
      "cell_type": "code",
      "source": [
        "complextypes = types_to_explore[1]\n",
        "for t in complextypes:\n",
        "  print(t.__name__)"
      ],
      "metadata": {
        "id": "-JzKylrkRXxe",
        "outputId": "3f7121e1-59a6-46a2-d3c7-0bbe0b1db489",
        "colab": {
          "base_uri": "https://localhost:8080/"
        }
      },
      "execution_count": null,
      "outputs": [
        {
          "output_type": "stream",
          "name": "stdout",
          "text": [
            "list\n",
            "tuple\n",
            "set\n",
            "dict\n"
          ]
        }
      ]
    },
    {
      "cell_type": "code",
      "source": [],
      "metadata": {
        "id": "cGVNr6p9Rq9v"
      },
      "execution_count": null,
      "outputs": []
    }
  ]
}